{
 "cells": [
  {
   "cell_type": "code",
   "execution_count": 1,
   "id": "feca699e",
   "metadata": {
    "_cell_guid": "b1076dfc-b9ad-4769-8c92-a6c4dae69d19",
    "_uuid": "8f2839f25d086af736a60e9eeb907d3b93b6e0e5",
    "execution": {
     "iopub.execute_input": "2022-01-10T21:10:27.014961Z",
     "iopub.status.busy": "2022-01-10T21:10:27.013898Z",
     "iopub.status.idle": "2022-01-10T21:10:27.021202Z",
     "shell.execute_reply": "2022-01-10T21:10:27.021697Z",
     "shell.execute_reply.started": "2022-01-10T20:55:30.137556Z"
    },
    "papermill": {
     "duration": 0.031521,
     "end_time": "2022-01-10T21:10:27.021990",
     "exception": false,
     "start_time": "2022-01-10T21:10:26.990469",
     "status": "completed"
    },
    "tags": []
   },
   "outputs": [],
   "source": [
    "# This Python 3 environment comes with many helpful analytics libraries installed\n",
    "# It is defined by the kaggle/python Docker image: https://github.com/kaggle/docker-python\n",
    "# For example, here's several helpful packages to load\n",
    "\n",
    "import numpy as np # linear algebra\n",
    "import pandas as pd # data processing, CSV file I/O (e.g. pd.read_csv)\n",
    "\n",
    "# Input data files are available in the read-only \"../input/\" directory\n",
    "# For example, running this (by clicking run or pressing Shift+Enter) will list all files under the input directory\n",
    "\n",
    "import os\n",
    "# for dirname, _, filenames in os.walk('/kaggle/input'):\n",
    "#     for filename in filenames:\n",
    "#         print(os.path.join(dirname, filename))\n",
    "\n",
    "# You can write up to 20GB to the current directory (/kaggle/working/) that gets preserved as output when you create a version using \"Save & Run All\" \n",
    "# You can also write temporary files to /kaggle/temp/, but they won't be saved outside of the current session"
   ]
  },
  {
   "cell_type": "code",
   "execution_count": 2,
   "id": "47695916",
   "metadata": {
    "execution": {
     "iopub.execute_input": "2022-01-10T21:10:27.065257Z",
     "iopub.status.busy": "2022-01-10T21:10:27.064597Z",
     "iopub.status.idle": "2022-01-10T21:10:27.984591Z",
     "shell.execute_reply": "2022-01-10T21:10:27.984084Z",
     "shell.execute_reply.started": "2022-01-10T20:55:30.145465Z"
    },
    "papermill": {
     "duration": 0.942313,
     "end_time": "2022-01-10T21:10:27.984755",
     "exception": false,
     "start_time": "2022-01-10T21:10:27.042442",
     "status": "completed"
    },
    "tags": []
   },
   "outputs": [],
   "source": [
    "#Imports\n",
    "import numpy as np\n",
    "import pandas as pd\n",
    "import os\n",
    "import sklearn\n",
    "from  matplotlib import pyplot as plt\n",
    "from matplotlib.pyplot import subplots\n",
    "import seaborn as sns"
   ]
  },
  {
   "cell_type": "markdown",
   "id": "3b585025",
   "metadata": {
    "papermill": {
     "duration": 0.017981,
     "end_time": "2022-01-10T21:10:28.021106",
     "exception": false,
     "start_time": "2022-01-10T21:10:28.003125",
     "status": "completed"
    },
    "tags": []
   },
   "source": [
    "# **EDA**"
   ]
  },
  {
   "cell_type": "code",
   "execution_count": 3,
   "id": "611a8be6",
   "metadata": {
    "execution": {
     "iopub.execute_input": "2022-01-10T21:10:28.064763Z",
     "iopub.status.busy": "2022-01-10T21:10:28.063860Z",
     "iopub.status.idle": "2022-01-10T21:10:28.128406Z",
     "shell.execute_reply": "2022-01-10T21:10:28.128957Z",
     "shell.execute_reply.started": "2022-01-10T20:55:30.210484Z"
    },
    "papermill": {
     "duration": 0.089859,
     "end_time": "2022-01-10T21:10:28.129139",
     "exception": false,
     "start_time": "2022-01-10T21:10:28.039280",
     "status": "completed"
    },
    "tags": []
   },
   "outputs": [
    {
     "data": {
      "text/html": [
       "<div>\n",
       "<style scoped>\n",
       "    .dataframe tbody tr th:only-of-type {\n",
       "        vertical-align: middle;\n",
       "    }\n",
       "\n",
       "    .dataframe tbody tr th {\n",
       "        vertical-align: top;\n",
       "    }\n",
       "\n",
       "    .dataframe thead th {\n",
       "        text-align: right;\n",
       "    }\n",
       "</style>\n",
       "<table border=\"1\" class=\"dataframe\">\n",
       "  <thead>\n",
       "    <tr style=\"text-align: right;\">\n",
       "      <th></th>\n",
       "      <th>Id</th>\n",
       "      <th>Subject Focus</th>\n",
       "      <th>Eyes</th>\n",
       "      <th>Face</th>\n",
       "      <th>Near</th>\n",
       "      <th>Action</th>\n",
       "      <th>Accessory</th>\n",
       "      <th>Group</th>\n",
       "      <th>Collage</th>\n",
       "      <th>Human</th>\n",
       "      <th>Occlusion</th>\n",
       "      <th>Info</th>\n",
       "      <th>Blur</th>\n",
       "      <th>Pawpularity</th>\n",
       "    </tr>\n",
       "  </thead>\n",
       "  <tbody>\n",
       "    <tr>\n",
       "      <th>0</th>\n",
       "      <td>0007de18844b0dbbb5e1f607da0606e0</td>\n",
       "      <td>0</td>\n",
       "      <td>1</td>\n",
       "      <td>1</td>\n",
       "      <td>1</td>\n",
       "      <td>0</td>\n",
       "      <td>0</td>\n",
       "      <td>1</td>\n",
       "      <td>0</td>\n",
       "      <td>0</td>\n",
       "      <td>0</td>\n",
       "      <td>0</td>\n",
       "      <td>0</td>\n",
       "      <td>63</td>\n",
       "    </tr>\n",
       "    <tr>\n",
       "      <th>1</th>\n",
       "      <td>0009c66b9439883ba2750fb825e1d7db</td>\n",
       "      <td>0</td>\n",
       "      <td>1</td>\n",
       "      <td>1</td>\n",
       "      <td>0</td>\n",
       "      <td>0</td>\n",
       "      <td>0</td>\n",
       "      <td>0</td>\n",
       "      <td>0</td>\n",
       "      <td>0</td>\n",
       "      <td>0</td>\n",
       "      <td>0</td>\n",
       "      <td>0</td>\n",
       "      <td>42</td>\n",
       "    </tr>\n",
       "    <tr>\n",
       "      <th>2</th>\n",
       "      <td>0013fd999caf9a3efe1352ca1b0d937e</td>\n",
       "      <td>0</td>\n",
       "      <td>1</td>\n",
       "      <td>1</td>\n",
       "      <td>1</td>\n",
       "      <td>0</td>\n",
       "      <td>0</td>\n",
       "      <td>0</td>\n",
       "      <td>0</td>\n",
       "      <td>1</td>\n",
       "      <td>1</td>\n",
       "      <td>0</td>\n",
       "      <td>0</td>\n",
       "      <td>28</td>\n",
       "    </tr>\n",
       "    <tr>\n",
       "      <th>3</th>\n",
       "      <td>0018df346ac9c1d8413cfcc888ca8246</td>\n",
       "      <td>0</td>\n",
       "      <td>1</td>\n",
       "      <td>1</td>\n",
       "      <td>1</td>\n",
       "      <td>0</td>\n",
       "      <td>0</td>\n",
       "      <td>0</td>\n",
       "      <td>0</td>\n",
       "      <td>0</td>\n",
       "      <td>0</td>\n",
       "      <td>0</td>\n",
       "      <td>0</td>\n",
       "      <td>15</td>\n",
       "    </tr>\n",
       "    <tr>\n",
       "      <th>4</th>\n",
       "      <td>001dc955e10590d3ca4673f034feeef2</td>\n",
       "      <td>0</td>\n",
       "      <td>0</td>\n",
       "      <td>0</td>\n",
       "      <td>1</td>\n",
       "      <td>0</td>\n",
       "      <td>0</td>\n",
       "      <td>1</td>\n",
       "      <td>0</td>\n",
       "      <td>0</td>\n",
       "      <td>0</td>\n",
       "      <td>0</td>\n",
       "      <td>0</td>\n",
       "      <td>72</td>\n",
       "    </tr>\n",
       "    <tr>\n",
       "      <th>...</th>\n",
       "      <td>...</td>\n",
       "      <td>...</td>\n",
       "      <td>...</td>\n",
       "      <td>...</td>\n",
       "      <td>...</td>\n",
       "      <td>...</td>\n",
       "      <td>...</td>\n",
       "      <td>...</td>\n",
       "      <td>...</td>\n",
       "      <td>...</td>\n",
       "      <td>...</td>\n",
       "      <td>...</td>\n",
       "      <td>...</td>\n",
       "      <td>...</td>\n",
       "    </tr>\n",
       "    <tr>\n",
       "      <th>9907</th>\n",
       "      <td>ffbfa0383c34dc513c95560d6e1fdb57</td>\n",
       "      <td>0</td>\n",
       "      <td>0</td>\n",
       "      <td>0</td>\n",
       "      <td>1</td>\n",
       "      <td>0</td>\n",
       "      <td>0</td>\n",
       "      <td>0</td>\n",
       "      <td>0</td>\n",
       "      <td>0</td>\n",
       "      <td>0</td>\n",
       "      <td>0</td>\n",
       "      <td>1</td>\n",
       "      <td>15</td>\n",
       "    </tr>\n",
       "    <tr>\n",
       "      <th>9908</th>\n",
       "      <td>ffcc8532d76436fc79e50eb2e5238e45</td>\n",
       "      <td>0</td>\n",
       "      <td>1</td>\n",
       "      <td>1</td>\n",
       "      <td>1</td>\n",
       "      <td>0</td>\n",
       "      <td>0</td>\n",
       "      <td>0</td>\n",
       "      <td>0</td>\n",
       "      <td>0</td>\n",
       "      <td>0</td>\n",
       "      <td>0</td>\n",
       "      <td>0</td>\n",
       "      <td>70</td>\n",
       "    </tr>\n",
       "    <tr>\n",
       "      <th>9909</th>\n",
       "      <td>ffdf2e8673a1da6fb80342fa3b119a20</td>\n",
       "      <td>0</td>\n",
       "      <td>1</td>\n",
       "      <td>1</td>\n",
       "      <td>1</td>\n",
       "      <td>0</td>\n",
       "      <td>0</td>\n",
       "      <td>0</td>\n",
       "      <td>0</td>\n",
       "      <td>1</td>\n",
       "      <td>1</td>\n",
       "      <td>0</td>\n",
       "      <td>0</td>\n",
       "      <td>20</td>\n",
       "    </tr>\n",
       "    <tr>\n",
       "      <th>9910</th>\n",
       "      <td>fff19e2ce11718548fa1c5d039a5192a</td>\n",
       "      <td>0</td>\n",
       "      <td>1</td>\n",
       "      <td>1</td>\n",
       "      <td>1</td>\n",
       "      <td>0</td>\n",
       "      <td>0</td>\n",
       "      <td>0</td>\n",
       "      <td>0</td>\n",
       "      <td>1</td>\n",
       "      <td>0</td>\n",
       "      <td>0</td>\n",
       "      <td>0</td>\n",
       "      <td>20</td>\n",
       "    </tr>\n",
       "    <tr>\n",
       "      <th>9911</th>\n",
       "      <td>fff8e47c766799c9e12f3cb3d66ad228</td>\n",
       "      <td>0</td>\n",
       "      <td>1</td>\n",
       "      <td>1</td>\n",
       "      <td>1</td>\n",
       "      <td>0</td>\n",
       "      <td>0</td>\n",
       "      <td>0</td>\n",
       "      <td>0</td>\n",
       "      <td>0</td>\n",
       "      <td>0</td>\n",
       "      <td>0</td>\n",
       "      <td>0</td>\n",
       "      <td>30</td>\n",
       "    </tr>\n",
       "  </tbody>\n",
       "</table>\n",
       "<p>9912 rows × 14 columns</p>\n",
       "</div>"
      ],
      "text/plain": [
       "                                    Id  Subject Focus  Eyes  Face  Near  \\\n",
       "0     0007de18844b0dbbb5e1f607da0606e0              0     1     1     1   \n",
       "1     0009c66b9439883ba2750fb825e1d7db              0     1     1     0   \n",
       "2     0013fd999caf9a3efe1352ca1b0d937e              0     1     1     1   \n",
       "3     0018df346ac9c1d8413cfcc888ca8246              0     1     1     1   \n",
       "4     001dc955e10590d3ca4673f034feeef2              0     0     0     1   \n",
       "...                                ...            ...   ...   ...   ...   \n",
       "9907  ffbfa0383c34dc513c95560d6e1fdb57              0     0     0     1   \n",
       "9908  ffcc8532d76436fc79e50eb2e5238e45              0     1     1     1   \n",
       "9909  ffdf2e8673a1da6fb80342fa3b119a20              0     1     1     1   \n",
       "9910  fff19e2ce11718548fa1c5d039a5192a              0     1     1     1   \n",
       "9911  fff8e47c766799c9e12f3cb3d66ad228              0     1     1     1   \n",
       "\n",
       "      Action  Accessory  Group  Collage  Human  Occlusion  Info  Blur  \\\n",
       "0          0          0      1        0      0          0     0     0   \n",
       "1          0          0      0        0      0          0     0     0   \n",
       "2          0          0      0        0      1          1     0     0   \n",
       "3          0          0      0        0      0          0     0     0   \n",
       "4          0          0      1        0      0          0     0     0   \n",
       "...      ...        ...    ...      ...    ...        ...   ...   ...   \n",
       "9907       0          0      0        0      0          0     0     1   \n",
       "9908       0          0      0        0      0          0     0     0   \n",
       "9909       0          0      0        0      1          1     0     0   \n",
       "9910       0          0      0        0      1          0     0     0   \n",
       "9911       0          0      0        0      0          0     0     0   \n",
       "\n",
       "      Pawpularity  \n",
       "0              63  \n",
       "1              42  \n",
       "2              28  \n",
       "3              15  \n",
       "4              72  \n",
       "...           ...  \n",
       "9907           15  \n",
       "9908           70  \n",
       "9909           20  \n",
       "9910           20  \n",
       "9911           30  \n",
       "\n",
       "[9912 rows x 14 columns]"
      ]
     },
     "execution_count": 3,
     "metadata": {},
     "output_type": "execute_result"
    }
   ],
   "source": [
    "#Reading the train meta data\n",
    "train_data = pd.read_csv(\"/kaggle/input/petfinder-pawpularity-score/train.csv\")\n",
    "train_data"
   ]
  },
  {
   "cell_type": "code",
   "execution_count": 4,
   "id": "e3dd6249",
   "metadata": {
    "execution": {
     "iopub.execute_input": "2022-01-10T21:10:28.174292Z",
     "iopub.status.busy": "2022-01-10T21:10:28.173366Z",
     "iopub.status.idle": "2022-01-10T21:10:28.194684Z",
     "shell.execute_reply": "2022-01-10T21:10:28.194160Z",
     "shell.execute_reply.started": "2022-01-10T20:55:30.249457Z"
    },
    "papermill": {
     "duration": 0.044841,
     "end_time": "2022-01-10T21:10:28.194849",
     "exception": false,
     "start_time": "2022-01-10T21:10:28.150008",
     "status": "completed"
    },
    "tags": []
   },
   "outputs": [
    {
     "data": {
      "text/html": [
       "<div>\n",
       "<style scoped>\n",
       "    .dataframe tbody tr th:only-of-type {\n",
       "        vertical-align: middle;\n",
       "    }\n",
       "\n",
       "    .dataframe tbody tr th {\n",
       "        vertical-align: top;\n",
       "    }\n",
       "\n",
       "    .dataframe thead th {\n",
       "        text-align: right;\n",
       "    }\n",
       "</style>\n",
       "<table border=\"1\" class=\"dataframe\">\n",
       "  <thead>\n",
       "    <tr style=\"text-align: right;\">\n",
       "      <th></th>\n",
       "      <th>Id</th>\n",
       "      <th>Subject Focus</th>\n",
       "      <th>Eyes</th>\n",
       "      <th>Face</th>\n",
       "      <th>Near</th>\n",
       "      <th>Action</th>\n",
       "      <th>Accessory</th>\n",
       "      <th>Group</th>\n",
       "      <th>Collage</th>\n",
       "      <th>Human</th>\n",
       "      <th>Occlusion</th>\n",
       "      <th>Info</th>\n",
       "      <th>Blur</th>\n",
       "    </tr>\n",
       "  </thead>\n",
       "  <tbody>\n",
       "    <tr>\n",
       "      <th>0</th>\n",
       "      <td>4128bae22183829d2b5fea10effdb0c3</td>\n",
       "      <td>1</td>\n",
       "      <td>0</td>\n",
       "      <td>1</td>\n",
       "      <td>0</td>\n",
       "      <td>0</td>\n",
       "      <td>1</td>\n",
       "      <td>1</td>\n",
       "      <td>0</td>\n",
       "      <td>0</td>\n",
       "      <td>1</td>\n",
       "      <td>0</td>\n",
       "      <td>1</td>\n",
       "    </tr>\n",
       "    <tr>\n",
       "      <th>1</th>\n",
       "      <td>43a2262d7738e3d420d453815151079e</td>\n",
       "      <td>0</td>\n",
       "      <td>1</td>\n",
       "      <td>0</td>\n",
       "      <td>0</td>\n",
       "      <td>0</td>\n",
       "      <td>0</td>\n",
       "      <td>1</td>\n",
       "      <td>1</td>\n",
       "      <td>0</td>\n",
       "      <td>0</td>\n",
       "      <td>0</td>\n",
       "      <td>0</td>\n",
       "    </tr>\n",
       "    <tr>\n",
       "      <th>2</th>\n",
       "      <td>4e429cead1848a298432a0acad014c9d</td>\n",
       "      <td>0</td>\n",
       "      <td>0</td>\n",
       "      <td>0</td>\n",
       "      <td>1</td>\n",
       "      <td>0</td>\n",
       "      <td>1</td>\n",
       "      <td>1</td>\n",
       "      <td>1</td>\n",
       "      <td>0</td>\n",
       "      <td>1</td>\n",
       "      <td>1</td>\n",
       "      <td>1</td>\n",
       "    </tr>\n",
       "    <tr>\n",
       "      <th>3</th>\n",
       "      <td>80bc3ccafcc51b66303c2c263aa38486</td>\n",
       "      <td>1</td>\n",
       "      <td>0</td>\n",
       "      <td>1</td>\n",
       "      <td>0</td>\n",
       "      <td>0</td>\n",
       "      <td>0</td>\n",
       "      <td>0</td>\n",
       "      <td>0</td>\n",
       "      <td>0</td>\n",
       "      <td>0</td>\n",
       "      <td>1</td>\n",
       "      <td>0</td>\n",
       "    </tr>\n",
       "    <tr>\n",
       "      <th>4</th>\n",
       "      <td>8f49844c382931444e68dffbe20228f4</td>\n",
       "      <td>1</td>\n",
       "      <td>1</td>\n",
       "      <td>1</td>\n",
       "      <td>0</td>\n",
       "      <td>1</td>\n",
       "      <td>1</td>\n",
       "      <td>0</td>\n",
       "      <td>1</td>\n",
       "      <td>0</td>\n",
       "      <td>1</td>\n",
       "      <td>1</td>\n",
       "      <td>0</td>\n",
       "    </tr>\n",
       "    <tr>\n",
       "      <th>5</th>\n",
       "      <td>b03f7041962238a7c9d6537e22f9b017</td>\n",
       "      <td>0</td>\n",
       "      <td>0</td>\n",
       "      <td>1</td>\n",
       "      <td>1</td>\n",
       "      <td>1</td>\n",
       "      <td>1</td>\n",
       "      <td>1</td>\n",
       "      <td>1</td>\n",
       "      <td>1</td>\n",
       "      <td>0</td>\n",
       "      <td>1</td>\n",
       "      <td>0</td>\n",
       "    </tr>\n",
       "    <tr>\n",
       "      <th>6</th>\n",
       "      <td>c978013571258ed6d4637f6e8cc9d6a3</td>\n",
       "      <td>1</td>\n",
       "      <td>0</td>\n",
       "      <td>0</td>\n",
       "      <td>0</td>\n",
       "      <td>1</td>\n",
       "      <td>1</td>\n",
       "      <td>0</td>\n",
       "      <td>1</td>\n",
       "      <td>0</td>\n",
       "      <td>1</td>\n",
       "      <td>1</td>\n",
       "      <td>1</td>\n",
       "    </tr>\n",
       "    <tr>\n",
       "      <th>7</th>\n",
       "      <td>e0de453c1bffc20c22b072b34b54e50f</td>\n",
       "      <td>1</td>\n",
       "      <td>0</td>\n",
       "      <td>1</td>\n",
       "      <td>0</td>\n",
       "      <td>0</td>\n",
       "      <td>0</td>\n",
       "      <td>0</td>\n",
       "      <td>0</td>\n",
       "      <td>1</td>\n",
       "      <td>0</td>\n",
       "      <td>0</td>\n",
       "      <td>1</td>\n",
       "    </tr>\n",
       "  </tbody>\n",
       "</table>\n",
       "</div>"
      ],
      "text/plain": [
       "                                 Id  Subject Focus  Eyes  Face  Near  Action  \\\n",
       "0  4128bae22183829d2b5fea10effdb0c3              1     0     1     0       0   \n",
       "1  43a2262d7738e3d420d453815151079e              0     1     0     0       0   \n",
       "2  4e429cead1848a298432a0acad014c9d              0     0     0     1       0   \n",
       "3  80bc3ccafcc51b66303c2c263aa38486              1     0     1     0       0   \n",
       "4  8f49844c382931444e68dffbe20228f4              1     1     1     0       1   \n",
       "5  b03f7041962238a7c9d6537e22f9b017              0     0     1     1       1   \n",
       "6  c978013571258ed6d4637f6e8cc9d6a3              1     0     0     0       1   \n",
       "7  e0de453c1bffc20c22b072b34b54e50f              1     0     1     0       0   \n",
       "\n",
       "   Accessory  Group  Collage  Human  Occlusion  Info  Blur  \n",
       "0          1      1        0      0          1     0     1  \n",
       "1          0      1        1      0          0     0     0  \n",
       "2          1      1        1      0          1     1     1  \n",
       "3          0      0        0      0          0     1     0  \n",
       "4          1      0        1      0          1     1     0  \n",
       "5          1      1        1      1          0     1     0  \n",
       "6          1      0        1      0          1     1     1  \n",
       "7          0      0        0      1          0     0     1  "
      ]
     },
     "execution_count": 4,
     "metadata": {},
     "output_type": "execute_result"
    }
   ],
   "source": [
    "# Reading the test metadata\n",
    "test_data = pd.read_csv(\"/kaggle/input/petfinder-pawpularity-score/test.csv\")\n",
    "test_data"
   ]
  },
  {
   "cell_type": "code",
   "execution_count": 5,
   "id": "1a414ab0",
   "metadata": {
    "execution": {
     "iopub.execute_input": "2022-01-10T21:10:28.249559Z",
     "iopub.status.busy": "2022-01-10T21:10:28.242824Z",
     "iopub.status.idle": "2022-01-10T21:10:28.260930Z",
     "shell.execute_reply": "2022-01-10T21:10:28.261374Z",
     "shell.execute_reply.started": "2022-01-10T20:55:30.269421Z"
    },
    "papermill": {
     "duration": 0.044368,
     "end_time": "2022-01-10T21:10:28.261548",
     "exception": false,
     "start_time": "2022-01-10T21:10:28.217180",
     "status": "completed"
    },
    "tags": []
   },
   "outputs": [
    {
     "data": {
      "text/html": [
       "<div>\n",
       "<style scoped>\n",
       "    .dataframe tbody tr th:only-of-type {\n",
       "        vertical-align: middle;\n",
       "    }\n",
       "\n",
       "    .dataframe tbody tr th {\n",
       "        vertical-align: top;\n",
       "    }\n",
       "\n",
       "    .dataframe thead th {\n",
       "        text-align: right;\n",
       "    }\n",
       "</style>\n",
       "<table border=\"1\" class=\"dataframe\">\n",
       "  <thead>\n",
       "    <tr style=\"text-align: right;\">\n",
       "      <th></th>\n",
       "      <th>Subject Focus</th>\n",
       "      <th>Eyes</th>\n",
       "      <th>Face</th>\n",
       "      <th>Near</th>\n",
       "      <th>Action</th>\n",
       "      <th>Accessory</th>\n",
       "      <th>Group</th>\n",
       "      <th>Collage</th>\n",
       "      <th>Human</th>\n",
       "      <th>Occlusion</th>\n",
       "      <th>Info</th>\n",
       "      <th>Blur</th>\n",
       "    </tr>\n",
       "  </thead>\n",
       "  <tbody>\n",
       "    <tr>\n",
       "      <th>0</th>\n",
       "      <td>0</td>\n",
       "      <td>1</td>\n",
       "      <td>1</td>\n",
       "      <td>1</td>\n",
       "      <td>0</td>\n",
       "      <td>0</td>\n",
       "      <td>1</td>\n",
       "      <td>0</td>\n",
       "      <td>0</td>\n",
       "      <td>0</td>\n",
       "      <td>0</td>\n",
       "      <td>0</td>\n",
       "    </tr>\n",
       "    <tr>\n",
       "      <th>1</th>\n",
       "      <td>0</td>\n",
       "      <td>1</td>\n",
       "      <td>1</td>\n",
       "      <td>0</td>\n",
       "      <td>0</td>\n",
       "      <td>0</td>\n",
       "      <td>0</td>\n",
       "      <td>0</td>\n",
       "      <td>0</td>\n",
       "      <td>0</td>\n",
       "      <td>0</td>\n",
       "      <td>0</td>\n",
       "    </tr>\n",
       "    <tr>\n",
       "      <th>2</th>\n",
       "      <td>0</td>\n",
       "      <td>1</td>\n",
       "      <td>1</td>\n",
       "      <td>1</td>\n",
       "      <td>0</td>\n",
       "      <td>0</td>\n",
       "      <td>0</td>\n",
       "      <td>0</td>\n",
       "      <td>1</td>\n",
       "      <td>1</td>\n",
       "      <td>0</td>\n",
       "      <td>0</td>\n",
       "    </tr>\n",
       "    <tr>\n",
       "      <th>3</th>\n",
       "      <td>0</td>\n",
       "      <td>1</td>\n",
       "      <td>1</td>\n",
       "      <td>1</td>\n",
       "      <td>0</td>\n",
       "      <td>0</td>\n",
       "      <td>0</td>\n",
       "      <td>0</td>\n",
       "      <td>0</td>\n",
       "      <td>0</td>\n",
       "      <td>0</td>\n",
       "      <td>0</td>\n",
       "    </tr>\n",
       "    <tr>\n",
       "      <th>4</th>\n",
       "      <td>0</td>\n",
       "      <td>0</td>\n",
       "      <td>0</td>\n",
       "      <td>1</td>\n",
       "      <td>0</td>\n",
       "      <td>0</td>\n",
       "      <td>1</td>\n",
       "      <td>0</td>\n",
       "      <td>0</td>\n",
       "      <td>0</td>\n",
       "      <td>0</td>\n",
       "      <td>0</td>\n",
       "    </tr>\n",
       "    <tr>\n",
       "      <th>...</th>\n",
       "      <td>...</td>\n",
       "      <td>...</td>\n",
       "      <td>...</td>\n",
       "      <td>...</td>\n",
       "      <td>...</td>\n",
       "      <td>...</td>\n",
       "      <td>...</td>\n",
       "      <td>...</td>\n",
       "      <td>...</td>\n",
       "      <td>...</td>\n",
       "      <td>...</td>\n",
       "      <td>...</td>\n",
       "    </tr>\n",
       "    <tr>\n",
       "      <th>9907</th>\n",
       "      <td>0</td>\n",
       "      <td>0</td>\n",
       "      <td>0</td>\n",
       "      <td>1</td>\n",
       "      <td>0</td>\n",
       "      <td>0</td>\n",
       "      <td>0</td>\n",
       "      <td>0</td>\n",
       "      <td>0</td>\n",
       "      <td>0</td>\n",
       "      <td>0</td>\n",
       "      <td>1</td>\n",
       "    </tr>\n",
       "    <tr>\n",
       "      <th>9908</th>\n",
       "      <td>0</td>\n",
       "      <td>1</td>\n",
       "      <td>1</td>\n",
       "      <td>1</td>\n",
       "      <td>0</td>\n",
       "      <td>0</td>\n",
       "      <td>0</td>\n",
       "      <td>0</td>\n",
       "      <td>0</td>\n",
       "      <td>0</td>\n",
       "      <td>0</td>\n",
       "      <td>0</td>\n",
       "    </tr>\n",
       "    <tr>\n",
       "      <th>9909</th>\n",
       "      <td>0</td>\n",
       "      <td>1</td>\n",
       "      <td>1</td>\n",
       "      <td>1</td>\n",
       "      <td>0</td>\n",
       "      <td>0</td>\n",
       "      <td>0</td>\n",
       "      <td>0</td>\n",
       "      <td>1</td>\n",
       "      <td>1</td>\n",
       "      <td>0</td>\n",
       "      <td>0</td>\n",
       "    </tr>\n",
       "    <tr>\n",
       "      <th>9910</th>\n",
       "      <td>0</td>\n",
       "      <td>1</td>\n",
       "      <td>1</td>\n",
       "      <td>1</td>\n",
       "      <td>0</td>\n",
       "      <td>0</td>\n",
       "      <td>0</td>\n",
       "      <td>0</td>\n",
       "      <td>1</td>\n",
       "      <td>0</td>\n",
       "      <td>0</td>\n",
       "      <td>0</td>\n",
       "    </tr>\n",
       "    <tr>\n",
       "      <th>9911</th>\n",
       "      <td>0</td>\n",
       "      <td>1</td>\n",
       "      <td>1</td>\n",
       "      <td>1</td>\n",
       "      <td>0</td>\n",
       "      <td>0</td>\n",
       "      <td>0</td>\n",
       "      <td>0</td>\n",
       "      <td>0</td>\n",
       "      <td>0</td>\n",
       "      <td>0</td>\n",
       "      <td>0</td>\n",
       "    </tr>\n",
       "  </tbody>\n",
       "</table>\n",
       "<p>9912 rows × 12 columns</p>\n",
       "</div>"
      ],
      "text/plain": [
       "      Subject Focus  Eyes  Face  Near  Action  Accessory  Group  Collage  \\\n",
       "0                 0     1     1     1       0          0      1        0   \n",
       "1                 0     1     1     0       0          0      0        0   \n",
       "2                 0     1     1     1       0          0      0        0   \n",
       "3                 0     1     1     1       0          0      0        0   \n",
       "4                 0     0     0     1       0          0      1        0   \n",
       "...             ...   ...   ...   ...     ...        ...    ...      ...   \n",
       "9907              0     0     0     1       0          0      0        0   \n",
       "9908              0     1     1     1       0          0      0        0   \n",
       "9909              0     1     1     1       0          0      0        0   \n",
       "9910              0     1     1     1       0          0      0        0   \n",
       "9911              0     1     1     1       0          0      0        0   \n",
       "\n",
       "      Human  Occlusion  Info  Blur  \n",
       "0         0          0     0     0  \n",
       "1         0          0     0     0  \n",
       "2         1          1     0     0  \n",
       "3         0          0     0     0  \n",
       "4         0          0     0     0  \n",
       "...     ...        ...   ...   ...  \n",
       "9907      0          0     0     1  \n",
       "9908      0          0     0     0  \n",
       "9909      1          1     0     0  \n",
       "9910      1          0     0     0  \n",
       "9911      0          0     0     0  \n",
       "\n",
       "[9912 rows x 12 columns]"
      ]
     },
     "execution_count": 5,
     "metadata": {},
     "output_type": "execute_result"
    }
   ],
   "source": [
    "#Assigning the X and y columns and performing the train test split\n",
    "X = train_data.iloc[:,1:13]\n",
    "X"
   ]
  },
  {
   "cell_type": "code",
   "execution_count": 6,
   "id": "d736683c",
   "metadata": {
    "execution": {
     "iopub.execute_input": "2022-01-10T21:10:28.311063Z",
     "iopub.status.busy": "2022-01-10T21:10:28.310082Z",
     "iopub.status.idle": "2022-01-10T21:10:28.314595Z",
     "shell.execute_reply": "2022-01-10T21:10:28.315146Z",
     "shell.execute_reply.started": "2022-01-10T20:55:30.288511Z"
    },
    "papermill": {
     "duration": 0.033357,
     "end_time": "2022-01-10T21:10:28.315306",
     "exception": false,
     "start_time": "2022-01-10T21:10:28.281949",
     "status": "completed"
    },
    "tags": []
   },
   "outputs": [
    {
     "data": {
      "text/plain": [
       "0       63\n",
       "1       42\n",
       "2       28\n",
       "3       15\n",
       "4       72\n",
       "        ..\n",
       "9907    15\n",
       "9908    70\n",
       "9909    20\n",
       "9910    20\n",
       "9911    30\n",
       "Name: Pawpularity, Length: 9912, dtype: int64"
      ]
     },
     "execution_count": 6,
     "metadata": {},
     "output_type": "execute_result"
    }
   ],
   "source": [
    "y = train_data[\"Pawpularity\"]\n",
    "y"
   ]
  },
  {
   "cell_type": "code",
   "execution_count": 7,
   "id": "97140df9",
   "metadata": {
    "execution": {
     "iopub.execute_input": "2022-01-10T21:10:28.358973Z",
     "iopub.status.busy": "2022-01-10T21:10:28.358030Z",
     "iopub.status.idle": "2022-01-10T21:10:28.438947Z",
     "shell.execute_reply": "2022-01-10T21:10:28.439406Z",
     "shell.execute_reply.started": "2022-01-10T20:55:30.300078Z"
    },
    "papermill": {
     "duration": 0.104297,
     "end_time": "2022-01-10T21:10:28.439588",
     "exception": false,
     "start_time": "2022-01-10T21:10:28.335291",
     "status": "completed"
    },
    "tags": []
   },
   "outputs": [],
   "source": [
    "from sklearn.model_selection import train_test_split\n",
    "X_train, X_test, y_train, y_test = train_test_split(X,y)"
   ]
  },
  {
   "cell_type": "markdown",
   "id": "b32f87e4",
   "metadata": {
    "papermill": {
     "duration": 0.019521,
     "end_time": "2022-01-10T21:10:28.479061",
     "exception": false,
     "start_time": "2022-01-10T21:10:28.459540",
     "status": "completed"
    },
    "tags": []
   },
   "source": [
    "# **Visuals**"
   ]
  },
  {
   "cell_type": "code",
   "execution_count": 8,
   "id": "c0b7a22d",
   "metadata": {
    "execution": {
     "iopub.execute_input": "2022-01-10T21:10:28.523334Z",
     "iopub.status.busy": "2022-01-10T21:10:28.522410Z",
     "iopub.status.idle": "2022-01-10T21:10:30.052593Z",
     "shell.execute_reply": "2022-01-10T21:10:30.053083Z",
     "shell.execute_reply.started": "2022-01-10T20:55:30.310302Z"
    },
    "papermill": {
     "duration": 1.554242,
     "end_time": "2022-01-10T21:10:30.053258",
     "exception": false,
     "start_time": "2022-01-10T21:10:28.499016",
     "status": "completed"
    },
    "tags": []
   },
   "outputs": [
    {
     "data": {
      "image/png": "[encoded data removed]",
      "text/plain": [
       "<Figure size 1080x1080 with 12 Axes>"
      ]
     },
     "metadata": {
      "needs_background": "light"
     },
     "output_type": "display_data"
    }
   ],
   "source": [
    "#Checking for correlation between the input and target variable to spot the obvious trends if any\n",
    "fig, ax = plt.subplots(4, 3, figsize=(15, 15))\n",
    "for var, subplot in zip(X, ax.flatten()):\n",
    "    sns.boxplot(x=var, y='Pawpularity', data=train_data, ax=subplot)"
   ]
  },
  {
   "cell_type": "markdown",
   "id": "225cab18",
   "metadata": {
    "papermill": {
     "duration": 0.021531,
     "end_time": "2022-01-10T21:10:30.096103",
     "exception": false,
     "start_time": "2022-01-10T21:10:30.074572",
     "status": "completed"
    },
    "tags": []
   },
   "source": [
    "Since the boxes of each feature against the target variable does not show a striking difference & the boxes of 0's and 1's are almost at the same level. Hence, there's no direct relationship of each variable with the target."
   ]
  },
  {
   "cell_type": "code",
   "execution_count": 9,
   "id": "89936848",
   "metadata": {
    "execution": {
     "iopub.execute_input": "2022-01-10T21:10:30.266065Z",
     "iopub.status.busy": "2022-01-10T21:10:30.210399Z",
     "iopub.status.idle": "2022-01-10T21:10:31.173411Z",
     "shell.execute_reply": "2022-01-10T21:10:31.172896Z",
     "shell.execute_reply.started": "2022-01-10T20:55:31.958053Z"
    },
    "papermill": {
     "duration": 1.056071,
     "end_time": "2022-01-10T21:10:31.173545",
     "exception": false,
     "start_time": "2022-01-10T21:10:30.117474",
     "status": "completed"
    },
    "tags": []
   },
   "outputs": [
    {
     "data": {
      "image/png": "[encoded data removed]",
      "text/plain": [
       "<Figure size 1080x1080 with 12 Axes>"
      ]
     },
     "metadata": {
      "needs_background": "light"
     },
     "output_type": "display_data"
    }
   ],
   "source": [
    "fig, ax = plt.subplots(4, 3, figsize=(15, 15))\n",
    "for var, subplot in zip(X, ax.flatten()):\n",
    "    sns.countplot(x=var, data=train_data, ax=subplot);"
   ]
  },
  {
   "cell_type": "markdown",
   "id": "47312128",
   "metadata": {
    "papermill": {
     "duration": 0.022301,
     "end_time": "2022-01-10T21:10:31.220044",
     "exception": false,
     "start_time": "2022-01-10T21:10:31.197743",
     "status": "completed"
    },
    "tags": []
   },
   "source": [
    "From the above histograms, we can deduce that the feature values are highly unbalanced in the given datatset. Hence, before applying the ML models, we need to perform stratified sampling on the train set."
   ]
  },
  {
   "cell_type": "markdown",
   "id": "70b5d389",
   "metadata": {
    "papermill": {
     "duration": 0.022193,
     "end_time": "2022-01-10T21:10:31.264606",
     "exception": false,
     "start_time": "2022-01-10T21:10:31.242413",
     "status": "completed"
    },
    "tags": []
   },
   "source": [
    "# **Stratified ShuffleSplit cross validator example**"
   ]
  },
  {
   "cell_type": "code",
   "execution_count": 10,
   "id": "969c3905",
   "metadata": {
    "execution": {
     "iopub.execute_input": "2022-01-10T21:10:31.316980Z",
     "iopub.status.busy": "2022-01-10T21:10:31.316326Z",
     "iopub.status.idle": "2022-01-10T21:10:31.333907Z",
     "shell.execute_reply": "2022-01-10T21:10:31.333411Z",
     "shell.execute_reply.started": "2022-01-10T20:55:33.404806Z"
    },
    "papermill": {
     "duration": 0.046622,
     "end_time": "2022-01-10T21:10:31.334052",
     "exception": false,
     "start_time": "2022-01-10T21:10:31.287430",
     "status": "completed"
    },
    "tags": []
   },
   "outputs": [
    {
     "name": "stdout",
     "output_type": "stream",
     "text": [
      "StratifiedShuffleSplit(n_splits=1, random_state=77, test_size=0.2,\n",
      "            train_size=None)\n",
      "TRAIN: [8660 5489 4414 ... 5220  590 8513] TEST: [3339 7586 6049 ... 5606  233 1526]\n"
     ]
    }
   ],
   "source": [
    "from sklearn.model_selection import StratifiedShuffleSplit\n",
    "sss = StratifiedShuffleSplit(n_splits=1, test_size=0.2, random_state=77)\n",
    "sss.get_n_splits(X, y)\n",
    "print(sss)\n",
    "for train_index, test_index in sss.split(X, y):\n",
    "    print(\"TRAIN:\", train_index, \"TEST:\", test_index)\n",
    "    X_train, X_test = X.iloc[list(train_index)], X.iloc[list(test_index)]\n",
    "    y_train, y_test = y.iloc[list(train_index)], y.iloc[list(test_index)]"
   ]
  },
  {
   "cell_type": "markdown",
   "id": "f1b9241f",
   "metadata": {
    "papermill": {
     "duration": 0.022315,
     "end_time": "2022-01-10T21:10:31.379305",
     "exception": false,
     "start_time": "2022-01-10T21:10:31.356990",
     "status": "completed"
    },
    "tags": []
   },
   "source": [
    "# Linear Regression on the metadata (Baseline)"
   ]
  },
  {
   "cell_type": "code",
   "execution_count": 11,
   "id": "eb5847a5",
   "metadata": {
    "execution": {
     "iopub.execute_input": "2022-01-10T21:10:31.570087Z",
     "iopub.status.busy": "2022-01-10T21:10:31.433299Z",
     "iopub.status.idle": "2022-01-10T21:10:33.118421Z",
     "shell.execute_reply": "2022-01-10T21:10:33.119166Z",
     "shell.execute_reply.started": "2022-01-10T20:55:33.438064Z"
    },
    "papermill": {
     "duration": 1.717502,
     "end_time": "2022-01-10T21:10:33.119449",
     "exception": false,
     "start_time": "2022-01-10T21:10:31.401947",
     "status": "completed"
    },
    "tags": []
   },
   "outputs": [
    {
     "name": "stdout",
     "output_type": "stream",
     "text": [
      "TRAIN: [8660 5489 4414 ... 5220  590 8513] TEST: [3339 7586 6049 ... 5606  233 1526]\n",
      "[ 0.04346444 -1.65386     1.28129275  0.22994248  0.12267277  0.7214842\n",
      "  1.01855757 -0.02730326  0.34971997 -0.35028398  0.43305171 -2.5182368 ]\n"
     ]
    },
    {
     "data": {
      "image/png": "[encoded data removed]",
      "text/plain": [
       "<Figure size 432x288 with 1 Axes>"
      ]
     },
     "metadata": {
      "needs_background": "light"
     },
     "output_type": "display_data"
    },
    {
     "name": "stdout",
     "output_type": "stream",
     "text": [
      "Mean Absolute Error: 15.377698510295215\n",
      "Mean Squared Error: 422.94080183837707\n",
      "Root Mean Squared Error: 3.921440871707135\n",
      "Mean Absolute Percentage Error: 78.55283205414032\n",
      "[38.1170716 37.2670716 37.4270716 39.6770716 38.4870716 42.0470716\n",
      " 36.3370716 37.0770716]\n",
      "                                 Id  Pawpularity\n",
      "0  4128bae22183829d2b5fea10effdb0c3    38.117072\n",
      "1  43a2262d7738e3d420d453815151079e    37.267072\n",
      "2  4e429cead1848a298432a0acad014c9d    37.427072\n",
      "3  80bc3ccafcc51b66303c2c263aa38486    39.677072\n",
      "4  8f49844c382931444e68dffbe20228f4    38.487072\n",
      "5  b03f7041962238a7c9d6537e22f9b017    42.047072\n",
      "6  c978013571258ed6d4637f6e8cc9d6a3    36.337072\n",
      "7  e0de453c1bffc20c22b072b34b54e50f    37.077072\n",
      "TRAIN: [ 439    5 9338 ... 6371 6602  563] TEST: [2307 3878 1323 ... 4882 8931 7781]\n",
      "[-0.615263   -2.21619213  2.5078341   0.50799417  1.36743014  0.91058408\n",
      "  1.26901271  0.06474539  0.4259765   0.2593569  -0.33343234 -4.10685615]\n"
     ]
    },
    {
     "data": {
      "image/png": "[encoded data removed]",
      "text/plain": [
       "<Figure size 432x288 with 1 Axes>"
      ]
     },
     "metadata": {
      "needs_background": "light"
     },
     "output_type": "display_data"
    },
    {
     "name": "stdout",
     "output_type": "stream",
     "text": [
      "Mean Absolute Error: 15.415203767594202\n",
      "Mean Squared Error: 424.83591313586464\n",
      "Root Mean Squared Error: 3.9262200355550885\n",
      "Mean Absolute Percentage Error: 78.89810137172633\n",
      "[37.23460465 36.12460465 35.58460465 38.57460465 38.95460465 43.74460465\n",
      " 34.55460465 35.22460465]\n",
      "                                 Id  Pawpularity\n",
      "0  4128bae22183829d2b5fea10effdb0c3    37.234605\n",
      "1  43a2262d7738e3d420d453815151079e    36.124605\n",
      "2  4e429cead1848a298432a0acad014c9d    35.584605\n",
      "3  80bc3ccafcc51b66303c2c263aa38486    38.574605\n",
      "4  8f49844c382931444e68dffbe20228f4    38.954605\n",
      "5  b03f7041962238a7c9d6537e22f9b017    43.744605\n",
      "6  c978013571258ed6d4637f6e8cc9d6a3    34.554605\n",
      "7  e0de453c1bffc20c22b072b34b54e50f    35.224605\n",
      "TRAIN: [5004 5811 3230 ...  504 8635 9764] TEST: [8852 3581 1335 ... 6555 1452 5753]\n",
      "[-1.55038524 -2.38196834  2.30548597  0.96996605  0.93447883  0.71895033\n",
      "  1.29990732  0.10603571 -0.09571455  0.3164119  -0.61645272 -3.99290103]\n"
     ]
    },
    {
     "data": {
      "image/png": "[encoded data removed]",
      "text/plain": [
       "<Figure size 432x288 with 1 Axes>"
      ]
     },
     "metadata": {
      "needs_background": "light"
     },
     "output_type": "display_data"
    },
    {
     "name": "stdout",
     "output_type": "stream",
     "text": [
      "Mean Absolute Error: 15.412975571594206\n",
      "Mean Squared Error: 424.7184863693435\n",
      "Root Mean Squared Error: 3.9259362668787947\n",
      "Mean Absolute Percentage Error: 78.80748045650728\n",
      "[36.15713111 36.07713111 35.85713111 37.18713111 36.88713111 42.66713111\n",
      " 32.96713111 33.71713111]\n",
      "                                 Id  Pawpularity\n",
      "0  4128bae22183829d2b5fea10effdb0c3    36.157131\n",
      "1  43a2262d7738e3d420d453815151079e    36.077131\n",
      "2  4e429cead1848a298432a0acad014c9d    35.857131\n",
      "3  80bc3ccafcc51b66303c2c263aa38486    37.187131\n",
      "4  8f49844c382931444e68dffbe20228f4    36.887131\n",
      "5  b03f7041962238a7c9d6537e22f9b017    42.667131\n",
      "6  c978013571258ed6d4637f6e8cc9d6a3    32.967131\n",
      "7  e0de453c1bffc20c22b072b34b54e50f    33.717131\n",
      "TRAIN: [1251  487 1995 ... 7954 3846 6502] TEST: [4388 1794 8452 ... 2733 3215 3156]\n",
      "[-1.5681445  -2.47098167  2.10410912  0.48151685  0.34209343  0.39645754\n",
      "  1.16861674  0.01990233 -0.07188633  0.22594894 -0.95568718 -3.86296209]\n"
     ]
    },
    {
     "data": {
      "image/png": "[encoded data removed]",
      "text/plain": [
       "<Figure size 432x288 with 1 Axes>"
      ]
     },
     "metadata": {
      "needs_background": "light"
     },
     "output_type": "display_data"
    },
    {
     "name": "stdout",
     "output_type": "stream",
     "text": [
      "Mean Absolute Error: 15.399012249850884\n",
      "Mean Squared Error: 424.43695815079184\n",
      "Root Mean Squared Error: 3.924157521029308\n",
      "Mean Absolute Percentage Error: 78.76491815247253\n",
      "[36.26348204 36.51348204 35.27348204 37.36348204 35.88348204 41.27348204\n",
      " 32.39348204 34.39348204]\n",
      "                                 Id  Pawpularity\n",
      "0  4128bae22183829d2b5fea10effdb0c3    36.263482\n",
      "1  43a2262d7738e3d420d453815151079e    36.513482\n",
      "2  4e429cead1848a298432a0acad014c9d    35.273482\n",
      "3  80bc3ccafcc51b66303c2c263aa38486    37.363482\n",
      "4  8f49844c382931444e68dffbe20228f4    35.883482\n",
      "5  b03f7041962238a7c9d6537e22f9b017    41.273482\n",
      "6  c978013571258ed6d4637f6e8cc9d6a3    32.393482\n",
      "7  e0de453c1bffc20c22b072b34b54e50f    34.393482\n",
      "TRAIN: [ 441  899 7679 ... 7541 8577 1314] TEST: [9793 8817 3150 ... 2473  854 1473]\n",
      "[-0.77372902 -2.49697022  2.74084226  0.14204276 -1.3453048   0.634687\n",
      "  1.3057222   0.30103566 -0.11465076  0.16486339 -1.22355012 -3.72891545]\n"
     ]
    },
    {
     "data": {
      "image/png": "[encoded data removed]",
      "text/plain": [
       "<Figure size 432x288 with 1 Axes>"
      ]
     },
     "metadata": {
      "needs_background": "light"
     },
     "output_type": "display_data"
    },
    {
     "name": "stdout",
     "output_type": "stream",
     "text": [
      "Mean Absolute Error: 15.429594317085101\n",
      "Mean Squared Error: 424.60610282030717\n",
      "Root Mean Squared Error: 3.928052229424286\n",
      "Mean Absolute Percentage Error: 78.92637832268807\n",
      "[37.84418917 36.61418917 35.09418917 38.25418917 35.49418917 39.94418917\n",
      " 31.52418917 35.63418917]\n",
      "                                 Id  Pawpularity\n",
      "0  4128bae22183829d2b5fea10effdb0c3    37.844189\n",
      "1  43a2262d7738e3d420d453815151079e    36.614189\n",
      "2  4e429cead1848a298432a0acad014c9d    35.094189\n",
      "3  80bc3ccafcc51b66303c2c263aa38486    38.254189\n",
      "4  8f49844c382931444e68dffbe20228f4    35.494189\n",
      "5  b03f7041962238a7c9d6537e22f9b017    39.944189\n",
      "6  c978013571258ed6d4637f6e8cc9d6a3    31.524189\n",
      "7  e0de453c1bffc20c22b072b34b54e50f    35.634189\n"
     ]
    }
   ],
   "source": [
    "from sklearn.datasets import make_regression\n",
    "from sklearn.linear_model import LinearRegression\n",
    "from matplotlib import pyplot\n",
    "from sklearn.model_selection import StratifiedShuffleSplit\n",
    "from sklearn import metrics\n",
    "\n",
    "sss = StratifiedShuffleSplit(n_splits=5, test_size=0.2, random_state=77)\n",
    "sss.get_n_splits(X, y)\n",
    "# X, y = make_regression(n_samples=9912, n_features=12, random_state=1)\n",
    "for train_index, test_index in sss.split(X, y):\n",
    "    print(\"TRAIN:\", train_index, \"TEST:\", test_index)\n",
    "    X_train, X_test = X.iloc[list(train_index)], X.iloc[list(test_index)]\n",
    "    y_train, y_test = y.iloc[list(train_index)], y.iloc[list(test_index)]\n",
    "    model = LinearRegression()\n",
    "\n",
    "    model.fit(X_train, y_train)\n",
    "\n",
    "    importance = model.coef_\n",
    "\n",
    "    print(importance)\n",
    "\n",
    "    importance_linear_reg = pd.DataFrame(importance, columns=[\"Importance\"])\n",
    "    X_columns = train_data.iloc[:,1:13]\n",
    "    importance_linear_reg[\"Importance\"] = round(importance_linear_reg[\"Importance\"],2)\n",
    "    importance_linear_reg[\"Features\"] = X_columns.columns\n",
    "    importance_linear_reg = importance_linear_reg.sort_index(ascending = True, axis = 1)\n",
    "    importance_linear_reg\n",
    "\n",
    "    # plot feature importance\n",
    "    pyplot.bar(importance_linear_reg[\"Features\"], importance_linear_reg[\"Importance\"])\n",
    "    pyplot.xticks(rotation=90)\n",
    "    pyplot.show()\n",
    "    \n",
    "    y_prediction =  model.predict(X_test)\n",
    "    y_prediction\n",
    "    \n",
    "    print(\"Mean Absolute Error:\", metrics.mean_absolute_error(y_test, y_prediction))\n",
    "    print(\"Mean Squared Error:\", metrics.mean_squared_error(y_test, y_prediction))\n",
    "    print(\"Root Mean Squared Error:\", np.sqrt(metrics.mean_absolute_error(y_test, y_prediction)))\n",
    "    print(\"Mean Absolute Percentage Error:\", np.mean(np.abs((y_test - y_prediction)/y_test))*100)\n",
    "    \n",
    "    \n",
    "    test_pred = model.predict(test_data.iloc[:,1:13])\n",
    "    print(test_pred)\n",
    "    \n",
    "    Solution_Linear_Reg = pd.DataFrame(test_data[\"Id\"], columns=[\"Id\"])\n",
    "    Solution_Linear_Reg['Pawpularity']=test_pred\n",
    "    print(Solution_Linear_Reg)"
   ]
  },
  {
   "cell_type": "markdown",
   "id": "2fd83136",
   "metadata": {
    "papermill": {
     "duration": 0.049581,
     "end_time": "2022-01-10T21:10:33.224847",
     "exception": false,
     "start_time": "2022-01-10T21:10:33.175266",
     "status": "completed"
    },
    "tags": []
   },
   "source": [
    "The linear regression gives us a MAE of approximately 15. This means that the prediction can deviate by +-15 pawpularity score. Also, the MAPE is about 78%, hence we need to explore image regression techniques."
   ]
  },
  {
   "cell_type": "markdown",
   "id": "b26809af",
   "metadata": {
    "papermill": {
     "duration": 0.02754,
     "end_time": "2022-01-10T21:10:33.280391",
     "exception": false,
     "start_time": "2022-01-10T21:10:33.252851",
     "status": "completed"
    },
    "tags": []
   },
   "source": [
    "# CNN for regression prediction with Keras"
   ]
  },
  {
   "cell_type": "code",
   "execution_count": 12,
   "id": "81806dab",
   "metadata": {
    "execution": {
     "iopub.execute_input": "2022-01-10T21:10:33.345072Z",
     "iopub.status.busy": "2022-01-10T21:10:33.344431Z",
     "iopub.status.idle": "2022-01-10T21:10:35.517282Z",
     "shell.execute_reply": "2022-01-10T21:10:35.518221Z",
     "shell.execute_reply.started": "2022-01-10T20:55:35.018477Z"
    },
    "papermill": {
     "duration": 2.209252,
     "end_time": "2022-01-10T21:10:35.518406",
     "exception": false,
     "start_time": "2022-01-10T21:10:33.309154",
     "status": "completed"
    },
    "tags": []
   },
   "outputs": [
    {
     "data": {
      "text/html": [
       "<div>\n",
       "<style scoped>\n",
       "    .dataframe tbody tr th:only-of-type {\n",
       "        vertical-align: middle;\n",
       "    }\n",
       "\n",
       "    .dataframe tbody tr th {\n",
       "        vertical-align: top;\n",
       "    }\n",
       "\n",
       "    .dataframe thead th {\n",
       "        text-align: right;\n",
       "    }\n",
       "</style>\n",
       "<table border=\"1\" class=\"dataframe\">\n",
       "  <thead>\n",
       "    <tr style=\"text-align: right;\">\n",
       "      <th></th>\n",
       "      <th>filepath</th>\n",
       "    </tr>\n",
       "    <tr>\n",
       "      <th>Id</th>\n",
       "      <th></th>\n",
       "    </tr>\n",
       "  </thead>\n",
       "  <tbody>\n",
       "    <tr>\n",
       "      <th>c978013571258ed6d4637f6e8cc9d6a3</th>\n",
       "      <td>/kaggle/input/petfinder-pawpularity-score/test...</td>\n",
       "    </tr>\n",
       "    <tr>\n",
       "      <th>4e429cead1848a298432a0acad014c9d</th>\n",
       "      <td>/kaggle/input/petfinder-pawpularity-score/test...</td>\n",
       "    </tr>\n",
       "    <tr>\n",
       "      <th>43a2262d7738e3d420d453815151079e</th>\n",
       "      <td>/kaggle/input/petfinder-pawpularity-score/test...</td>\n",
       "    </tr>\n",
       "    <tr>\n",
       "      <th>8f49844c382931444e68dffbe20228f4</th>\n",
       "      <td>/kaggle/input/petfinder-pawpularity-score/test...</td>\n",
       "    </tr>\n",
       "    <tr>\n",
       "      <th>4128bae22183829d2b5fea10effdb0c3</th>\n",
       "      <td>/kaggle/input/petfinder-pawpularity-score/test...</td>\n",
       "    </tr>\n",
       "    <tr>\n",
       "      <th>80bc3ccafcc51b66303c2c263aa38486</th>\n",
       "      <td>/kaggle/input/petfinder-pawpularity-score/test...</td>\n",
       "    </tr>\n",
       "    <tr>\n",
       "      <th>e0de453c1bffc20c22b072b34b54e50f</th>\n",
       "      <td>/kaggle/input/petfinder-pawpularity-score/test...</td>\n",
       "    </tr>\n",
       "    <tr>\n",
       "      <th>b03f7041962238a7c9d6537e22f9b017</th>\n",
       "      <td>/kaggle/input/petfinder-pawpularity-score/test...</td>\n",
       "    </tr>\n",
       "  </tbody>\n",
       "</table>\n",
       "</div>"
      ],
      "text/plain": [
       "                                                                           filepath\n",
       "Id                                                                                 \n",
       "c978013571258ed6d4637f6e8cc9d6a3  /kaggle/input/petfinder-pawpularity-score/test...\n",
       "4e429cead1848a298432a0acad014c9d  /kaggle/input/petfinder-pawpularity-score/test...\n",
       "43a2262d7738e3d420d453815151079e  /kaggle/input/petfinder-pawpularity-score/test...\n",
       "8f49844c382931444e68dffbe20228f4  /kaggle/input/petfinder-pawpularity-score/test...\n",
       "4128bae22183829d2b5fea10effdb0c3  /kaggle/input/petfinder-pawpularity-score/test...\n",
       "80bc3ccafcc51b66303c2c263aa38486  /kaggle/input/petfinder-pawpularity-score/test...\n",
       "e0de453c1bffc20c22b072b34b54e50f  /kaggle/input/petfinder-pawpularity-score/test...\n",
       "b03f7041962238a7c9d6537e22f9b017  /kaggle/input/petfinder-pawpularity-score/test..."
      ]
     },
     "execution_count": 12,
     "metadata": {},
     "output_type": "execute_result"
    }
   ],
   "source": [
    "# Preparing for loading the images\n",
    "from pathlib import Path\n",
    "import os.path\n",
    "import pandas as pd\n",
    "\n",
    "trainpaths = {}\n",
    "testpaths ={}\n",
    "for dirname, _, filenames in os.walk('/kaggle/input'):\n",
    "    for filename in filenames:\n",
    "        if 'train/' in (os.path.join(dirname, filename)):\n",
    "            filenames = filename.rstrip(\".jpg\")\n",
    "            trainpaths[filenames] = os.path.join(dirname, filename)\n",
    "        if 'test/' in (os.path.join(dirname, filename)):\n",
    "            filenames = filename.rstrip(\".jpg\")\n",
    "            testpaths[filenames] = os.path.join(dirname, filename)\n",
    "\n",
    "train_path = pd.DataFrame(list(trainpaths.items()),columns=['Id', 'filepath'])\n",
    "train_path = train_path.set_index('Id')\n",
    "train_path\n",
    "test_path = pd.DataFrame(list(testpaths.items()),columns=['Id', 'filepath'])\n",
    "test_path= test_path.set_index('Id')\n",
    "test_path\n"
   ]
  },
  {
   "cell_type": "code",
   "execution_count": 13,
   "id": "80bfe3f7",
   "metadata": {
    "execution": {
     "iopub.execute_input": "2022-01-10T21:10:35.581264Z",
     "iopub.status.busy": "2022-01-10T21:10:35.580364Z",
     "iopub.status.idle": "2022-01-10T21:10:35.603096Z",
     "shell.execute_reply": "2022-01-10T21:10:35.603533Z",
     "shell.execute_reply.started": "2022-01-10T20:55:36.710187Z"
    },
    "papermill": {
     "duration": 0.056117,
     "end_time": "2022-01-10T21:10:35.603724",
     "exception": false,
     "start_time": "2022-01-10T21:10:35.547607",
     "status": "completed"
    },
    "tags": []
   },
   "outputs": [
    {
     "data": {
      "text/html": [
       "<div>\n",
       "<style scoped>\n",
       "    .dataframe tbody tr th:only-of-type {\n",
       "        vertical-align: middle;\n",
       "    }\n",
       "\n",
       "    .dataframe tbody tr th {\n",
       "        vertical-align: top;\n",
       "    }\n",
       "\n",
       "    .dataframe thead th {\n",
       "        text-align: right;\n",
       "    }\n",
       "</style>\n",
       "<table border=\"1\" class=\"dataframe\">\n",
       "  <thead>\n",
       "    <tr style=\"text-align: right;\">\n",
       "      <th></th>\n",
       "      <th>Id</th>\n",
       "      <th>Subject Focus</th>\n",
       "      <th>Eyes</th>\n",
       "      <th>Face</th>\n",
       "      <th>Near</th>\n",
       "      <th>Action</th>\n",
       "      <th>Accessory</th>\n",
       "      <th>Group</th>\n",
       "      <th>Collage</th>\n",
       "      <th>Human</th>\n",
       "      <th>Occlusion</th>\n",
       "      <th>Info</th>\n",
       "      <th>Blur</th>\n",
       "      <th>filepath</th>\n",
       "    </tr>\n",
       "  </thead>\n",
       "  <tbody>\n",
       "    <tr>\n",
       "      <th>0</th>\n",
       "      <td>4128bae22183829d2b5fea10effdb0c3</td>\n",
       "      <td>1</td>\n",
       "      <td>0</td>\n",
       "      <td>1</td>\n",
       "      <td>0</td>\n",
       "      <td>0</td>\n",
       "      <td>1</td>\n",
       "      <td>1</td>\n",
       "      <td>0</td>\n",
       "      <td>0</td>\n",
       "      <td>1</td>\n",
       "      <td>0</td>\n",
       "      <td>1</td>\n",
       "      <td>/kaggle/input/petfinder-pawpularity-score/test...</td>\n",
       "    </tr>\n",
       "    <tr>\n",
       "      <th>1</th>\n",
       "      <td>43a2262d7738e3d420d453815151079e</td>\n",
       "      <td>0</td>\n",
       "      <td>1</td>\n",
       "      <td>0</td>\n",
       "      <td>0</td>\n",
       "      <td>0</td>\n",
       "      <td>0</td>\n",
       "      <td>1</td>\n",
       "      <td>1</td>\n",
       "      <td>0</td>\n",
       "      <td>0</td>\n",
       "      <td>0</td>\n",
       "      <td>0</td>\n",
       "      <td>/kaggle/input/petfinder-pawpularity-score/test...</td>\n",
       "    </tr>\n",
       "    <tr>\n",
       "      <th>2</th>\n",
       "      <td>4e429cead1848a298432a0acad014c9d</td>\n",
       "      <td>0</td>\n",
       "      <td>0</td>\n",
       "      <td>0</td>\n",
       "      <td>1</td>\n",
       "      <td>0</td>\n",
       "      <td>1</td>\n",
       "      <td>1</td>\n",
       "      <td>1</td>\n",
       "      <td>0</td>\n",
       "      <td>1</td>\n",
       "      <td>1</td>\n",
       "      <td>1</td>\n",
       "      <td>/kaggle/input/petfinder-pawpularity-score/test...</td>\n",
       "    </tr>\n",
       "    <tr>\n",
       "      <th>3</th>\n",
       "      <td>80bc3ccafcc51b66303c2c263aa38486</td>\n",
       "      <td>1</td>\n",
       "      <td>0</td>\n",
       "      <td>1</td>\n",
       "      <td>0</td>\n",
       "      <td>0</td>\n",
       "      <td>0</td>\n",
       "      <td>0</td>\n",
       "      <td>0</td>\n",
       "      <td>0</td>\n",
       "      <td>0</td>\n",
       "      <td>1</td>\n",
       "      <td>0</td>\n",
       "      <td>/kaggle/input/petfinder-pawpularity-score/test...</td>\n",
       "    </tr>\n",
       "    <tr>\n",
       "      <th>4</th>\n",
       "      <td>8f49844c382931444e68dffbe20228f4</td>\n",
       "      <td>1</td>\n",
       "      <td>1</td>\n",
       "      <td>1</td>\n",
       "      <td>0</td>\n",
       "      <td>1</td>\n",
       "      <td>1</td>\n",
       "      <td>0</td>\n",
       "      <td>1</td>\n",
       "      <td>0</td>\n",
       "      <td>1</td>\n",
       "      <td>1</td>\n",
       "      <td>0</td>\n",
       "      <td>/kaggle/input/petfinder-pawpularity-score/test...</td>\n",
       "    </tr>\n",
       "    <tr>\n",
       "      <th>5</th>\n",
       "      <td>b03f7041962238a7c9d6537e22f9b017</td>\n",
       "      <td>0</td>\n",
       "      <td>0</td>\n",
       "      <td>1</td>\n",
       "      <td>1</td>\n",
       "      <td>1</td>\n",
       "      <td>1</td>\n",
       "      <td>1</td>\n",
       "      <td>1</td>\n",
       "      <td>1</td>\n",
       "      <td>0</td>\n",
       "      <td>1</td>\n",
       "      <td>0</td>\n",
       "      <td>/kaggle/input/petfinder-pawpularity-score/test...</td>\n",
       "    </tr>\n",
       "    <tr>\n",
       "      <th>6</th>\n",
       "      <td>c978013571258ed6d4637f6e8cc9d6a3</td>\n",
       "      <td>1</td>\n",
       "      <td>0</td>\n",
       "      <td>0</td>\n",
       "      <td>0</td>\n",
       "      <td>1</td>\n",
       "      <td>1</td>\n",
       "      <td>0</td>\n",
       "      <td>1</td>\n",
       "      <td>0</td>\n",
       "      <td>1</td>\n",
       "      <td>1</td>\n",
       "      <td>1</td>\n",
       "      <td>/kaggle/input/petfinder-pawpularity-score/test...</td>\n",
       "    </tr>\n",
       "    <tr>\n",
       "      <th>7</th>\n",
       "      <td>e0de453c1bffc20c22b072b34b54e50f</td>\n",
       "      <td>1</td>\n",
       "      <td>0</td>\n",
       "      <td>1</td>\n",
       "      <td>0</td>\n",
       "      <td>0</td>\n",
       "      <td>0</td>\n",
       "      <td>0</td>\n",
       "      <td>0</td>\n",
       "      <td>1</td>\n",
       "      <td>0</td>\n",
       "      <td>0</td>\n",
       "      <td>1</td>\n",
       "      <td>/kaggle/input/petfinder-pawpularity-score/test...</td>\n",
       "    </tr>\n",
       "  </tbody>\n",
       "</table>\n",
       "</div>"
      ],
      "text/plain": [
       "                                 Id  Subject Focus  Eyes  Face  Near  Action  \\\n",
       "0  4128bae22183829d2b5fea10effdb0c3              1     0     1     0       0   \n",
       "1  43a2262d7738e3d420d453815151079e              0     1     0     0       0   \n",
       "2  4e429cead1848a298432a0acad014c9d              0     0     0     1       0   \n",
       "3  80bc3ccafcc51b66303c2c263aa38486              1     0     1     0       0   \n",
       "4  8f49844c382931444e68dffbe20228f4              1     1     1     0       1   \n",
       "5  b03f7041962238a7c9d6537e22f9b017              0     0     1     1       1   \n",
       "6  c978013571258ed6d4637f6e8cc9d6a3              1     0     0     0       1   \n",
       "7  e0de453c1bffc20c22b072b34b54e50f              1     0     1     0       0   \n",
       "\n",
       "   Accessory  Group  Collage  Human  Occlusion  Info  Blur  \\\n",
       "0          1      1        0      0          1     0     1   \n",
       "1          0      1        1      0          0     0     0   \n",
       "2          1      1        1      0          1     1     1   \n",
       "3          0      0        0      0          0     1     0   \n",
       "4          1      0        1      0          1     1     0   \n",
       "5          1      1        1      1          0     1     0   \n",
       "6          1      0        1      0          1     1     1   \n",
       "7          0      0        0      1          0     0     1   \n",
       "\n",
       "                                            filepath  \n",
       "0  /kaggle/input/petfinder-pawpularity-score/test...  \n",
       "1  /kaggle/input/petfinder-pawpularity-score/test...  \n",
       "2  /kaggle/input/petfinder-pawpularity-score/test...  \n",
       "3  /kaggle/input/petfinder-pawpularity-score/test...  \n",
       "4  /kaggle/input/petfinder-pawpularity-score/test...  \n",
       "5  /kaggle/input/petfinder-pawpularity-score/test...  \n",
       "6  /kaggle/input/petfinder-pawpularity-score/test...  \n",
       "7  /kaggle/input/petfinder-pawpularity-score/test...  "
      ]
     },
     "execution_count": 13,
     "metadata": {},
     "output_type": "execute_result"
    }
   ],
   "source": [
    "#Join the image file paths with the meta data files containing pawpularity \n",
    "train_merged = pd.merge(train_data, train_path, on=[\"Id\"], how='left')\n",
    "train_merged\n",
    "test_merged = pd.merge(test_data, test_path, on=[\"Id\"], how='left')\n",
    "test_merged"
   ]
  },
  {
   "cell_type": "code",
   "execution_count": 14,
   "id": "cf829112",
   "metadata": {
    "execution": {
     "iopub.execute_input": "2022-01-10T21:10:35.667852Z",
     "iopub.status.busy": "2022-01-10T21:10:35.667193Z",
     "iopub.status.idle": "2022-01-10T21:10:35.697050Z",
     "shell.execute_reply": "2022-01-10T21:10:35.696436Z",
     "shell.execute_reply.started": "2022-01-10T20:55:36.738734Z"
    },
    "papermill": {
     "duration": 0.064836,
     "end_time": "2022-01-10T21:10:35.697189",
     "exception": false,
     "start_time": "2022-01-10T21:10:35.632353",
     "status": "completed"
    },
    "tags": []
   },
   "outputs": [
    {
     "name": "stdout",
     "output_type": "stream",
     "text": [
      "TRAIN: [8660 5489 4414 ... 5220  590 8513] TEST: [3339 7586 6049 ... 5606  233 1526]\n",
      "                                               filepath  Pawpularity\n",
      "8660  /kaggle/input/petfinder-pawpularity-score/trai...           83\n",
      "5489  /kaggle/input/petfinder-pawpularity-score/trai...           13\n",
      "4414  /kaggle/input/petfinder-pawpularity-score/trai...           56\n",
      "7291  /kaggle/input/petfinder-pawpularity-score/trai...           39\n",
      "5221  /kaggle/input/petfinder-pawpularity-score/trai...           80\n",
      "...                                                 ...          ...\n",
      "5060  /kaggle/input/petfinder-pawpularity-score/trai...           30\n",
      "6355  /kaggle/input/petfinder-pawpularity-score/trai...           38\n",
      "5220  /kaggle/input/petfinder-pawpularity-score/trai...           28\n",
      "590   /kaggle/input/petfinder-pawpularity-score/trai...           58\n",
      "8513  /kaggle/input/petfinder-pawpularity-score/trai...           20\n",
      "\n",
      "[7929 rows x 2 columns]\n",
      "                                               filepath  Pawpularity\n",
      "3339  /kaggle/input/petfinder-pawpularity-score/trai...           26\n",
      "7586  /kaggle/input/petfinder-pawpularity-score/trai...            8\n",
      "6049  /kaggle/input/petfinder-pawpularity-score/trai...           33\n",
      "4193  /kaggle/input/petfinder-pawpularity-score/trai...           42\n",
      "3649  /kaggle/input/petfinder-pawpularity-score/trai...           64\n",
      "...                                                 ...          ...\n",
      "5581  /kaggle/input/petfinder-pawpularity-score/trai...           55\n",
      "7093  /kaggle/input/petfinder-pawpularity-score/trai...           38\n",
      "5606  /kaggle/input/petfinder-pawpularity-score/trai...           18\n",
      "233   /kaggle/input/petfinder-pawpularity-score/trai...           19\n",
      "1526  /kaggle/input/petfinder-pawpularity-score/trai...           35\n",
      "\n",
      "[1983 rows x 2 columns]\n"
     ]
    }
   ],
   "source": [
    "#train test split\n",
    "X = train_merged['filepath']\n",
    "y = train_merged['Pawpularity']\n",
    "s = StratifiedShuffleSplit(n_splits=1, test_size=0.2, random_state=77)\n",
    "s.get_n_splits(X, y)\n",
    "for train_index, test_index in s.split(X, y):\n",
    "    print(\"TRAIN:\", train_index, \"TEST:\", test_index)\n",
    "    X_train, X_test = X.iloc[list(train_index)], X.iloc[list(test_index)]\n",
    "    y_train, y_test = y.iloc[list(train_index)], y.iloc[list(test_index)]\n",
    "train_final = pd.merge(X_train, y_train, left_index=True, right_index=True)\n",
    "print(train_final)\n",
    "test_final = pd.merge(X_test, y_test, left_index=True, right_index=True)\n",
    "print(test_final)"
   ]
  },
  {
   "cell_type": "code",
   "execution_count": 15,
   "id": "a424fbd1",
   "metadata": {
    "execution": {
     "iopub.execute_input": "2022-01-10T21:10:35.760591Z",
     "iopub.status.busy": "2022-01-10T21:10:35.759885Z",
     "iopub.status.idle": "2022-01-10T21:10:41.267054Z",
     "shell.execute_reply": "2022-01-10T21:10:41.266463Z",
     "shell.execute_reply.started": "2022-01-10T20:55:36.782158Z"
    },
    "papermill": {
     "duration": 5.540938,
     "end_time": "2022-01-10T21:10:41.267201",
     "exception": false,
     "start_time": "2022-01-10T21:10:35.726263",
     "status": "completed"
    },
    "tags": []
   },
   "outputs": [],
   "source": [
    "#Loading the images, rescaling the image pixels from range 0-255 to range 0-1\n",
    "import tensorflow as tf\n",
    "\n",
    "train_gen = tf.keras.preprocessing.image.ImageDataGenerator(\n",
    "rescale =1./255,\n",
    "validation_split = 0.2\n",
    ")\n",
    "\n",
    "test_gen = tf.keras.preprocessing.image.ImageDataGenerator(\n",
    "rescale = 1./255\n",
    ")"
   ]
  },
  {
   "cell_type": "code",
   "execution_count": 16,
   "id": "93947853",
   "metadata": {
    "execution": {
     "iopub.execute_input": "2022-01-10T21:10:41.332469Z",
     "iopub.status.busy": "2022-01-10T21:10:41.331858Z",
     "iopub.status.idle": "2022-01-10T21:10:43.781294Z",
     "shell.execute_reply": "2022-01-10T21:10:43.782038Z",
     "shell.execute_reply.started": "2022-01-10T20:55:36.792717Z"
    },
    "papermill": {
     "duration": 2.485566,
     "end_time": "2022-01-10T21:10:43.782264",
     "exception": false,
     "start_time": "2022-01-10T21:10:41.296698",
     "status": "completed"
    },
    "tags": []
   },
   "outputs": [
    {
     "name": "stdout",
     "output_type": "stream",
     "text": [
      "Found 6344 validated image filenames.\n",
      "Found 1585 validated image filenames.\n",
      "Found 8 validated image filenames.\n"
     ]
    }
   ],
   "source": [
    "#flow from Df function keras: image augmentation\n",
    "\n",
    "train_images = train_gen.flow_from_dataframe(\n",
    "    dataframe = train_final,\n",
    "    x_col = 'filepath',\n",
    "    y_col = 'Pawpularity',\n",
    "    target_size = (32,32),\n",
    "    color_mode = 'rgb',\n",
    "    shuffle = False,\n",
    "    class_mode = 'raw',\n",
    "    subset = 'training',\n",
    "    batch_size = 32,\n",
    "    seed = 77    \n",
    ")\n",
    "\n",
    "validation_images = train_gen.flow_from_dataframe(\n",
    "    dataframe = train_final,\n",
    "    x_col = 'filepath',\n",
    "    y_col = 'Pawpularity',\n",
    "    target_size = (32,32),\n",
    "    color_mode = 'rgb',\n",
    "    shuffle = False,\n",
    "    class_mode = 'raw',\n",
    "    subset = 'validation',\n",
    "    batch_size = 32,\n",
    "    seed = 77    \n",
    ")\n",
    "\n",
    "test_images = test_gen.flow_from_dataframe(\n",
    "    dataframe = test_merged,\n",
    "    x_col = 'filepath',\n",
    "    y_col = None,\n",
    "    target_size = (32,32),\n",
    "    color_mode = 'rgb',\n",
    "    shuffle = False,\n",
    "    class_mode = None,\n",
    "    batch_size = 32,\n",
    "    seed = 77    \n",
    ")"
   ]
  },
  {
   "cell_type": "code",
   "execution_count": 17,
   "id": "3f248b74",
   "metadata": {
    "execution": {
     "iopub.execute_input": "2022-01-10T21:10:43.853338Z",
     "iopub.status.busy": "2022-01-10T21:10:43.852505Z",
     "iopub.status.idle": "2022-01-10T21:21:56.506673Z",
     "shell.execute_reply": "2022-01-10T21:21:56.507406Z",
     "shell.execute_reply.started": "2022-01-10T20:55:37.181325Z"
    },
    "papermill": {
     "duration": 672.694844,
     "end_time": "2022-01-10T21:21:56.507668",
     "exception": false,
     "start_time": "2022-01-10T21:10:43.812824",
     "status": "completed"
    },
    "tags": []
   },
   "outputs": [
    {
     "name": "stderr",
     "output_type": "stream",
     "text": [
      "\n",
      "User settings:\n",
      "\n",
      "   KMP_AFFINITY=granularity=fine,verbose,compact,1,0\n",
      "   KMP_BLOCKTIME=0\n",
      "   KMP_DUPLICATE_LIB_OK=True\n",
      "   KMP_INIT_AT_FORK=FALSE\n",
      "   KMP_SETTINGS=1\n",
      "   KMP_WARNINGS=0\n",
      "\n",
      "Effective settings:\n",
      "\n",
      "   KMP_ABORT_DELAY=0\n",
      "   KMP_ADAPTIVE_LOCK_PROPS='1,1024'\n",
      "   KMP_ALIGN_ALLOC=64\n",
      "   KMP_ALL_THREADPRIVATE=128\n",
      "   KMP_ATOMIC_MODE=2\n",
      "   KMP_BLOCKTIME=0\n",
      "   KMP_CPUINFO_FILE: value is not defined\n",
      "   KMP_DETERMINISTIC_REDUCTION=false\n",
      "   KMP_DEVICE_THREAD_LIMIT=2147483647\n",
      "   KMP_DISP_NUM_BUFFERS=7\n",
      "   KMP_DUPLICATE_LIB_OK=true\n",
      "   KMP_ENABLE_TASK_THROTTLING=true\n",
      "   KMP_FORCE_REDUCTION: value is not defined\n",
      "   KMP_FOREIGN_THREADS_THREADPRIVATE=true\n",
      "   KMP_FORKJOIN_BARRIER='2,2'\n",
      "   KMP_FORKJOIN_BARRIER_PATTERN='hyper,hyper'\n",
      "   KMP_GTID_MODE=3\n",
      "   KMP_HANDLE_SIGNALS=false\n",
      "   KMP_HOT_TEAMS_MAX_LEVEL=1\n",
      "   KMP_HOT_TEAMS_MODE=0\n",
      "   KMP_INIT_AT_FORK=true\n",
      "   KMP_LIBRARY=throughput\n",
      "   KMP_LOCK_KIND=queuing\n",
      "   KMP_MALLOC_POOL_INCR=1M\n",
      "   KMP_NUM_LOCKS_IN_BLOCK=1\n",
      "   KMP_PLAIN_BARRIER='2,2'\n",
      "   KMP_PLAIN_BARRIER_PATTERN='hyper,hyper'\n",
      "   KMP_REDUCTION_BARRIER='1,1'\n",
      "   KMP_REDUCTION_BARRIER_PATTERN='hyper,hyper'\n",
      "   KMP_SCHEDULE='static,balanced;guided,iterative'\n",
      "   KMP_SETTINGS=true\n",
      "   KMP_SPIN_BACKOFF_PARAMS='4096,100'\n",
      "   KMP_STACKOFFSET=64\n",
      "   KMP_STACKPAD=0\n",
      "   KMP_STACKSIZE=8M\n",
      "   KMP_STORAGE_MAP=false\n",
      "   KMP_TASKING=2\n",
      "   KMP_TASKLOOP_MIN_TASKS=0\n",
      "   KMP_TASK_STEALING_CONSTRAINT=1\n",
      "   KMP_TEAMS_THREAD_LIMIT=4\n",
      "   KMP_TOPOLOGY_METHOD=all\n",
      "   KMP_USE_YIELD=1\n",
      "   KMP_VERSION=false\n",
      "   KMP_WARNINGS=false\n",
      "   OMP_AFFINITY_FORMAT='OMP: pid %P tid %i thread %n bound to OS proc set {%A}'\n",
      "   OMP_ALLOCATOR=omp_default_mem_alloc\n",
      "   OMP_CANCELLATION=false\n",
      "   OMP_DEFAULT_DEVICE=0\n",
      "   OMP_DISPLAY_AFFINITY=false\n",
      "   OMP_DISPLAY_ENV=false\n",
      "   OMP_DYNAMIC=false\n",
      "   OMP_MAX_ACTIVE_LEVELS=1\n",
      "   OMP_MAX_TASK_PRIORITY=0\n",
      "   OMP_NESTED: deprecated; max-active-levels-var=1\n",
      "   OMP_NUM_THREADS: value is not defined\n",
      "   OMP_PLACES: value is not defined\n",
      "   OMP_PROC_BIND='intel'\n",
      "   OMP_SCHEDULE='static'\n",
      "   OMP_STACKSIZE=8M\n",
      "   OMP_TARGET_OFFLOAD=DEFAULT\n",
      "   OMP_THREAD_LIMIT=2147483647\n",
      "   OMP_WAIT_POLICY=PASSIVE\n",
      "   KMP_AFFINITY='verbose,warnings,respect,granularity=fine,compact,1,0'\n",
      "\n",
      "2022-01-10 21:10:43.906849: I tensorflow/core/common_runtime/process_util.cc:146] Creating new thread pool with default inter op setting: 2. Tune using inter_op_parallelism_threads for best performance.\n",
      "2022-01-10 21:10:44.722443: I tensorflow/compiler/mlir/mlir_graph_optimization_pass.cc:185] None of the MLIR Optimization Passes are enabled (registered 2)\n"
     ]
    },
    {
     "name": "stdout",
     "output_type": "stream",
     "text": [
      "Epoch 1/5\n",
      "199/199 [==============================] - 137s 683ms/step - loss: 546.3018 - accuracy: 4.7289e-04 - val_loss: 441.6211 - val_accuracy: 0.0000e+00\n",
      "Epoch 2/5\n",
      "199/199 [==============================] - 104s 522ms/step - loss: 451.5703 - accuracy: 4.7289e-04 - val_loss: 437.4861 - val_accuracy: 0.0000e+00\n",
      "Epoch 3/5\n",
      "199/199 [==============================] - 104s 523ms/step - loss: 448.6653 - accuracy: 4.7289e-04 - val_loss: 431.5258 - val_accuracy: 0.0000e+00\n",
      "Epoch 4/5\n",
      "199/199 [==============================] - 104s 521ms/step - loss: 446.3941 - accuracy: 4.7289e-04 - val_loss: 465.1053 - val_accuracy: 0.0000e+00\n",
      "Epoch 5/5\n",
      "199/199 [==============================] - 103s 518ms/step - loss: 445.6248 - accuracy: 4.7289e-04 - val_loss: 429.1784 - val_accuracy: 0.0000e+00\n"
     ]
    }
   ],
   "source": [
    "#Training the NN\n",
    "layer1 = tf.keras.Input(shape=(32,32,3))\n",
    "layer2 = tf.keras.layers.Conv2D(filters=32, kernel_size = (3,3), padding = 'same')(layer1)\n",
    "layer3 = tf.keras.activations.relu(layer2, alpha=0.0, max_value=None, threshold=0.0)\n",
    "layer4 = tf.keras.layers.MaxPooling2D(pool_size=(2, 2),strides=(1, 1))(layer3)\n",
    "layer5 = tf.keras.layers.Conv2D(filters=32, kernel_size = (3,3))(layer4)\n",
    "layer6 = tf.keras.activations.relu(layer5, alpha=0.0, max_value=None, threshold=0.0)\n",
    "layer7 = tf.keras.layers.MaxPooling2D(pool_size=(2, 2),strides=(1, 1))(layer6)\n",
    "\n",
    "layer8 = tf.keras.layers.Conv2D(filters=64, kernel_size = (3,3), padding = 'same')(layer7)\n",
    "layer9 = tf.keras.activations.relu(layer8, alpha=0.0, max_value=None, threshold=0.0)\n",
    "layer10 = tf.keras.layers.MaxPooling2D(pool_size=(2, 2),strides=(1, 1))(layer9)\n",
    "layer11 = tf.keras.layers.Conv2D(filters=64, kernel_size = (3,3))(layer10)\n",
    "layer12 = tf.keras.activations.relu(layer11, alpha=0.0, max_value=None, threshold=0.0)\n",
    "layer13 = tf.keras.layers.MaxPooling2D(pool_size=(2, 2),strides=(1, 1))(layer12)\n",
    "\n",
    "layer14 = tf.keras.layers.GlobalAveragePooling2D()(layer13)\n",
    "\n",
    "layer15 = tf.keras.layers.Dense(64, activation='relu')(layer14)\n",
    "layer16 = tf.keras.layers.Dense(64, activation='relu')(layer15)\n",
    "layer17 = tf.keras.layers.Dense(1, activation='linear')(layer16)\n",
    "\n",
    "model = tf.keras.Model(inputs = layer1, outputs = layer17)\n",
    "\n",
    "model.compile(optimizer='adam',loss=\"mse\", metrics=['accuracy'])\n",
    "\n",
    "modelfit = model.fit(train_images, epochs = 5, validation_data = validation_images,\n",
    "                    callbacks = [\n",
    "                        tf.keras.callbacks.EarlyStopping(\n",
    "                        monitor='val_loss',\n",
    "                        patience=4,\n",
    "                        restore_best_weights = True)\n",
    "                    ])"
   ]
  },
  {
   "cell_type": "code",
   "execution_count": 18,
   "id": "175abfcd",
   "metadata": {
    "execution": {
     "iopub.execute_input": "2022-01-10T21:21:57.022889Z",
     "iopub.status.busy": "2022-01-10T21:21:57.022295Z",
     "iopub.status.idle": "2022-01-10T21:21:57.031524Z",
     "shell.execute_reply": "2022-01-10T21:21:57.032206Z",
     "shell.execute_reply.started": "2022-01-10T21:05:51.631078Z"
    },
    "papermill": {
     "duration": 0.268143,
     "end_time": "2022-01-10T21:21:57.032426",
     "exception": false,
     "start_time": "2022-01-10T21:21:56.764283",
     "status": "completed"
    },
    "tags": []
   },
   "outputs": [
    {
     "name": "stdout",
     "output_type": "stream",
     "text": [
      "KerasTensor(type_spec=TensorSpec(shape=(None, 32, 32, 3), dtype=tf.float32, name='input_1'), name='input_1', description=\"created by layer 'input_1'\")\n",
      "KerasTensor(type_spec=TensorSpec(shape=(None, 32, 32, 32), dtype=tf.float32, name=None), name='conv2d/BiasAdd:0', description=\"created by layer 'conv2d'\")\n",
      "KerasTensor(type_spec=TensorSpec(shape=(None, 32, 32, 32), dtype=tf.float32, name=None), name='tf.nn.relu/Relu:0', description=\"created by layer 'tf.nn.relu'\")\n",
      "KerasTensor(type_spec=TensorSpec(shape=(None, 31, 31, 32), dtype=tf.float32, name=None), name='max_pooling2d/MaxPool:0', description=\"created by layer 'max_pooling2d'\")\n",
      "KerasTensor(type_spec=TensorSpec(shape=(None, 29, 29, 32), dtype=tf.float32, name=None), name='conv2d_1/BiasAdd:0', description=\"created by layer 'conv2d_1'\")\n",
      "KerasTensor(type_spec=TensorSpec(shape=(None, 29, 29, 32), dtype=tf.float32, name=None), name='tf.nn.relu_1/Relu:0', description=\"created by layer 'tf.nn.relu_1'\")\n",
      "KerasTensor(type_spec=TensorSpec(shape=(None, 28, 28, 32), dtype=tf.float32, name=None), name='max_pooling2d_1/MaxPool:0', description=\"created by layer 'max_pooling2d_1'\")\n",
      "KerasTensor(type_spec=TensorSpec(shape=(None, 28, 28, 64), dtype=tf.float32, name=None), name='conv2d_2/BiasAdd:0', description=\"created by layer 'conv2d_2'\")\n",
      "KerasTensor(type_spec=TensorSpec(shape=(None, 28, 28, 64), dtype=tf.float32, name=None), name='tf.nn.relu_2/Relu:0', description=\"created by layer 'tf.nn.relu_2'\")\n",
      "KerasTensor(type_spec=TensorSpec(shape=(None, 27, 27, 64), dtype=tf.float32, name=None), name='max_pooling2d_2/MaxPool:0', description=\"created by layer 'max_pooling2d_2'\")\n",
      "KerasTensor(type_spec=TensorSpec(shape=(None, 25, 25, 64), dtype=tf.float32, name=None), name='conv2d_3/BiasAdd:0', description=\"created by layer 'conv2d_3'\")\n",
      "KerasTensor(type_spec=TensorSpec(shape=(None, 25, 25, 64), dtype=tf.float32, name=None), name='tf.nn.relu_3/Relu:0', description=\"created by layer 'tf.nn.relu_3'\")\n",
      "KerasTensor(type_spec=TensorSpec(shape=(None, 24, 24, 64), dtype=tf.float32, name=None), name='max_pooling2d_3/MaxPool:0', description=\"created by layer 'max_pooling2d_3'\")\n",
      "KerasTensor(type_spec=TensorSpec(shape=(None, 64), dtype=tf.float32, name=None), name='global_average_pooling2d/Mean:0', description=\"created by layer 'global_average_pooling2d'\")\n",
      "KerasTensor(type_spec=TensorSpec(shape=(None, 64), dtype=tf.float32, name=None), name='dense/Relu:0', description=\"created by layer 'dense'\")\n",
      "KerasTensor(type_spec=TensorSpec(shape=(None, 64), dtype=tf.float32, name=None), name='dense_1/Relu:0', description=\"created by layer 'dense_1'\")\n",
      "KerasTensor(type_spec=TensorSpec(shape=(None, 1), dtype=tf.float32, name=None), name='dense_2/BiasAdd:0', description=\"created by layer 'dense_2'\")\n"
     ]
    }
   ],
   "source": [
    "#Printing the output of all the intermediate layes to understand the network better\n",
    "print(layer1)\n",
    "print(layer2)\n",
    "print(layer3)\n",
    "print(layer4)\n",
    "print(layer5)\n",
    "print(layer6)\n",
    "print(layer7)\n",
    "print(layer8)\n",
    "print(layer9)\n",
    "print(layer10)\n",
    "print(layer11)\n",
    "print(layer12)\n",
    "print(layer13)\n",
    "print(layer14)\n",
    "print(layer15)\n",
    "print(layer16)\n",
    "print(layer17)"
   ]
  },
  {
   "cell_type": "code",
   "execution_count": 19,
   "id": "add3895e",
   "metadata": {
    "execution": {
     "iopub.execute_input": "2022-01-10T21:21:57.549461Z",
     "iopub.status.busy": "2022-01-10T21:21:57.548867Z",
     "iopub.status.idle": "2022-01-10T21:24:27.129853Z",
     "shell.execute_reply": "2022-01-10T21:24:27.130301Z",
     "shell.execute_reply.started": "2022-01-10T21:05:51.644137Z"
    },
    "papermill": {
     "duration": 149.839752,
     "end_time": "2022-01-10T21:24:27.130482",
     "exception": false,
     "start_time": "2022-01-10T21:21:57.290730",
     "status": "completed"
    },
    "tags": []
   },
   "outputs": [
    {
     "name": "stdout",
     "output_type": "stream",
     "text": [
      "[39.962696 41.40258  39.37111  ... 36.89509  40.126938 36.647495]\n",
      "[21 49 27 ... 28 58 20]\n",
      "199/199 [==============================] - 75s 374ms/step - loss: 430.4235 - accuracy: 4.7289e-04\n",
      "[430.42352294921875, 0.00047288776841014624]\n"
     ]
    },
    {
     "data": {
      "text/plain": [
       "array([20.74665089,  0.02174598])"
      ]
     },
     "execution_count": 19,
     "metadata": {},
     "output_type": "execute_result"
    }
   ],
   "source": [
    "#Train set prediction calculations\n",
    "import numpy as np\n",
    "pred = np.squeeze(model.predict(train_images))\n",
    "print(pred)\n",
    "real_pawpularity = train_images.labels\n",
    "print(real_pawpularity)\n",
    "score = model.evaluate(train_images, verbose=1)\n",
    "print(score)\n",
    "np.sqrt(score)"
   ]
  },
  {
   "cell_type": "code",
   "execution_count": 20,
   "id": "2c4baa15",
   "metadata": {
    "execution": {
     "iopub.execute_input": "2022-01-10T21:24:27.739607Z",
     "iopub.status.busy": "2022-01-10T21:24:27.739031Z",
     "iopub.status.idle": "2022-01-10T21:25:06.042036Z",
     "shell.execute_reply": "2022-01-10T21:25:06.041439Z",
     "shell.execute_reply.started": "2022-01-10T21:08:29.404920Z"
    },
    "papermill": {
     "duration": 38.608636,
     "end_time": "2022-01-10T21:25:06.042173",
     "exception": false,
     "start_time": "2022-01-10T21:24:27.433537",
     "status": "completed"
    },
    "tags": []
   },
   "outputs": [
    {
     "name": "stdout",
     "output_type": "stream",
     "text": [
      "[43.953243 38.685707 40.05178  ... 40.641445 41.168907 35.674545]\n",
      "[83 13 56 ... 41 15 30]\n",
      "50/50 [==============================] - 19s 374ms/step - loss: 429.1784 - accuracy: 0.0000e+00\n",
      "[429.1784362792969, 0.0]\n"
     ]
    },
    {
     "data": {
      "text/plain": [
       "array([20.71662222,  0.        ])"
      ]
     },
     "execution_count": 20,
     "metadata": {},
     "output_type": "execute_result"
    }
   ],
   "source": [
    "#Validation set prediction calculations\n",
    "import numpy as np\n",
    "pred = np.squeeze(model.predict(validation_images))\n",
    "print(pred)\n",
    "real_pawpularity = validation_images.labels\n",
    "print(real_pawpularity)\n",
    "score = model.evaluate(validation_images, verbose=1)\n",
    "print(score)\n",
    "np.sqrt(score)"
   ]
  },
  {
   "cell_type": "code",
   "execution_count": 21,
   "id": "f7da9534",
   "metadata": {
    "execution": {
     "iopub.execute_input": "2022-01-10T21:25:06.674746Z",
     "iopub.status.busy": "2022-01-10T21:25:06.674174Z",
     "iopub.status.idle": "2022-01-10T21:25:06.877156Z",
     "shell.execute_reply": "2022-01-10T21:25:06.876512Z",
     "shell.execute_reply.started": "2022-01-10T21:09:09.614991Z"
    },
    "papermill": {
     "duration": 0.5189,
     "end_time": "2022-01-10T21:25:06.877305",
     "exception": false,
     "start_time": "2022-01-10T21:25:06.358405",
     "status": "completed"
    },
    "tags": []
   },
   "outputs": [
    {
     "name": "stdout",
     "output_type": "stream",
     "text": [
      "[[38.514923]\n",
      " [39.643036]\n",
      " [38.883404]\n",
      " [38.924206]\n",
      " [39.063293]\n",
      " [39.220924]\n",
      " [39.336555]\n",
      " [39.17131 ]]\n"
     ]
    }
   ],
   "source": [
    "#Test set  prediction calculations\n",
    "import numpy as np\n",
    "final_pred = model.predict(test_images)\n",
    "print(final_pred)"
   ]
  },
  {
   "cell_type": "code",
   "execution_count": 22,
   "id": "609c10a9",
   "metadata": {
    "execution": {
     "iopub.execute_input": "2022-01-10T21:25:07.532421Z",
     "iopub.status.busy": "2022-01-10T21:25:07.531772Z",
     "iopub.status.idle": "2022-01-10T21:25:07.535401Z",
     "shell.execute_reply": "2022-01-10T21:25:07.535914Z",
     "shell.execute_reply.started": "2022-01-10T21:09:09.811450Z"
    },
    "papermill": {
     "duration": 0.333017,
     "end_time": "2022-01-10T21:25:07.536080",
     "exception": false,
     "start_time": "2022-01-10T21:25:07.203063",
     "status": "completed"
    },
    "tags": []
   },
   "outputs": [
    {
     "name": "stdout",
     "output_type": "stream",
     "text": [
      "                                  Pawpularity\n",
      "Id                                           \n",
      "4128bae22183829d2b5fea10effdb0c3        38.51\n",
      "43a2262d7738e3d420d453815151079e        39.64\n",
      "4e429cead1848a298432a0acad014c9d        38.88\n",
      "80bc3ccafcc51b66303c2c263aa38486        38.92\n",
      "8f49844c382931444e68dffbe20228f4        39.06\n",
      "b03f7041962238a7c9d6537e22f9b017        39.22\n",
      "c978013571258ed6d4637f6e8cc9d6a3        39.34\n",
      "e0de453c1bffc20c22b072b34b54e50f        39.17\n"
     ]
    }
   ],
   "source": [
    "# Adding the final prediction for the test images into a CSV file\n",
    "output = pd.DataFrame(test_merged['Id'], columns=[\"Id\"])\n",
    "output['Pawpularity']=final_pred\n",
    "output['Pawpularity']= output['Pawpularity'].apply(lambda x: round(x, 2))\n",
    "output = output.set_index('Id')\n",
    "print(output)"
   ]
  },
  {
   "cell_type": "code",
   "execution_count": 23,
   "id": "55765ed2",
   "metadata": {
    "execution": {
     "iopub.execute_input": "2022-01-10T21:25:08.176866Z",
     "iopub.status.busy": "2022-01-10T21:25:08.176257Z",
     "iopub.status.idle": "2022-01-10T21:25:08.184081Z",
     "shell.execute_reply": "2022-01-10T21:25:08.184575Z",
     "shell.execute_reply.started": "2022-01-10T21:09:09.827136Z"
    },
    "papermill": {
     "duration": 0.333393,
     "end_time": "2022-01-10T21:25:08.184753",
     "exception": false,
     "start_time": "2022-01-10T21:25:07.851360",
     "status": "completed"
    },
    "tags": []
   },
   "outputs": [
    {
     "data": {
      "text/html": [
       "<div>\n",
       "<style scoped>\n",
       "    .dataframe tbody tr th:only-of-type {\n",
       "        vertical-align: middle;\n",
       "    }\n",
       "\n",
       "    .dataframe tbody tr th {\n",
       "        vertical-align: top;\n",
       "    }\n",
       "\n",
       "    .dataframe thead th {\n",
       "        text-align: right;\n",
       "    }\n",
       "</style>\n",
       "<table border=\"1\" class=\"dataframe\">\n",
       "  <thead>\n",
       "    <tr style=\"text-align: right;\">\n",
       "      <th></th>\n",
       "      <th>Pawpularity</th>\n",
       "    </tr>\n",
       "    <tr>\n",
       "      <th>Id</th>\n",
       "      <th></th>\n",
       "    </tr>\n",
       "  </thead>\n",
       "  <tbody>\n",
       "    <tr>\n",
       "      <th>4128bae22183829d2b5fea10effdb0c3</th>\n",
       "      <td>38.51</td>\n",
       "    </tr>\n",
       "    <tr>\n",
       "      <th>43a2262d7738e3d420d453815151079e</th>\n",
       "      <td>39.64</td>\n",
       "    </tr>\n",
       "    <tr>\n",
       "      <th>4e429cead1848a298432a0acad014c9d</th>\n",
       "      <td>38.88</td>\n",
       "    </tr>\n",
       "    <tr>\n",
       "      <th>80bc3ccafcc51b66303c2c263aa38486</th>\n",
       "      <td>38.92</td>\n",
       "    </tr>\n",
       "    <tr>\n",
       "      <th>8f49844c382931444e68dffbe20228f4</th>\n",
       "      <td>39.06</td>\n",
       "    </tr>\n",
       "    <tr>\n",
       "      <th>b03f7041962238a7c9d6537e22f9b017</th>\n",
       "      <td>39.22</td>\n",
       "    </tr>\n",
       "    <tr>\n",
       "      <th>c978013571258ed6d4637f6e8cc9d6a3</th>\n",
       "      <td>39.34</td>\n",
       "    </tr>\n",
       "    <tr>\n",
       "      <th>e0de453c1bffc20c22b072b34b54e50f</th>\n",
       "      <td>39.17</td>\n",
       "    </tr>\n",
       "  </tbody>\n",
       "</table>\n",
       "</div>"
      ],
      "text/plain": [
       "                                  Pawpularity\n",
       "Id                                           \n",
       "4128bae22183829d2b5fea10effdb0c3        38.51\n",
       "43a2262d7738e3d420d453815151079e        39.64\n",
       "4e429cead1848a298432a0acad014c9d        38.88\n",
       "80bc3ccafcc51b66303c2c263aa38486        38.92\n",
       "8f49844c382931444e68dffbe20228f4        39.06\n",
       "b03f7041962238a7c9d6537e22f9b017        39.22\n",
       "c978013571258ed6d4637f6e8cc9d6a3        39.34\n",
       "e0de453c1bffc20c22b072b34b54e50f        39.17"
      ]
     },
     "execution_count": 23,
     "metadata": {},
     "output_type": "execute_result"
    }
   ],
   "source": [
    "output"
   ]
  },
  {
   "cell_type": "code",
   "execution_count": 24,
   "id": "94a1fe3d",
   "metadata": {
    "execution": {
     "iopub.execute_input": "2022-01-10T21:25:08.820612Z",
     "iopub.status.busy": "2022-01-10T21:25:08.820013Z",
     "iopub.status.idle": "2022-01-10T21:25:08.825499Z",
     "shell.execute_reply": "2022-01-10T21:25:08.825998Z",
     "shell.execute_reply.started": "2022-01-10T21:09:09.851364Z"
    },
    "papermill": {
     "duration": 0.327701,
     "end_time": "2022-01-10T21:25:08.826172",
     "exception": false,
     "start_time": "2022-01-10T21:25:08.498471",
     "status": "completed"
    },
    "tags": []
   },
   "outputs": [],
   "source": [
    "# Submit the CSV\n",
    "output.to_csv('./submission.csv', index = 'Id')"
   ]
  },
  {
   "cell_type": "code",
   "execution_count": null,
   "id": "ce731071",
   "metadata": {
    "papermill": {
     "duration": 0.313955,
     "end_time": "2022-01-10T21:25:09.465692",
     "exception": false,
     "start_time": "2022-01-10T21:25:09.151737",
     "status": "completed"
    },
    "tags": []
   },
   "outputs": [],
   "source": []
  }
 ],
 "metadata": {
  "kernelspec": {
   "display_name": "Python 3",
   "language": "python",
   "name": "python3"
  },
  "language_info": {
   "codemirror_mode": {
    "name": "ipython",
    "version": 3
   },
   "file_extension": ".py",
   "mimetype": "text/x-python",
   "name": "python",
   "nbconvert_exporter": "python",
   "pygments_lexer": "ipython3",
   "version": "3.7.10"
  },
  "papermill": {
   "default_parameters": {},
   "duration": 893.914872,
   "end_time": "2022-01-10T21:25:12.975130",
   "environment_variables": {},
   "exception": null,
   "input_path": "__notebook__.ipynb",
   "output_path": "__notebook__.ipynb",
   "parameters": {},
   "start_time": "2022-01-10T21:10:19.060258",
   "version": "2.3.3"
  }
 },
 "nbformat": 4,
 "nbformat_minor": 5
}
